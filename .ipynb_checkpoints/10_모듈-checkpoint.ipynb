{
 "cells": [
  {
   "cell_type": "code",
   "execution_count": 1,
   "id": "ed3e9146",
   "metadata": {},
   "outputs": [
    {
     "name": "stdout",
     "output_type": "stream",
     "text": [
      "Writing my_first_module.py\n"
     ]
    }
   ],
   "source": [
    "%%writefile my_first_module.py\n",
    "\n",
    "def my_function():\n",
    "    print('this is my first module.')"
   ]
  },
  {
   "cell_type": "code",
   "execution_count": 2,
   "id": "4d4d049c",
   "metadata": {
    "scrolled": false
   },
   "outputs": [
    {
     "name": "stderr",
     "output_type": "stream",
     "text": [
      "'cat'은(는) 내부 또는 외부 명령, 실행할 수 있는 프로그램, 또는\n",
      "배치 파일이 아닙니다.\n"
     ]
    }
   ],
   "source": [
    "!cat my_first_module.py"
   ]
  },
  {
   "cell_type": "code",
   "execution_count": 3,
   "id": "3ff631a8",
   "metadata": {},
   "outputs": [
    {
     "name": "stdout",
     "output_type": "stream",
     "text": [
      "this is my first module.\n"
     ]
    }
   ],
   "source": [
    "import my_first_module\n",
    "\n",
    "my_first_module.my_function()"
   ]
  },
  {
   "cell_type": "code",
   "execution_count": 5,
   "id": "c8dd6572",
   "metadata": {},
   "outputs": [
    {
     "name": "stdout",
     "output_type": "stream",
     "text": [
      "Writing my_area.py\n"
     ]
    }
   ],
   "source": [
    "%%writefile my_area.py\n",
    "\n",
    "PI=3.14\n",
    "def square_area(a):\n",
    "    return a**2\n",
    "\n",
    "def circle_area(r):\n",
    "    return PI*r**2"
   ]
  },
  {
   "cell_type": "code",
   "execution_count": 6,
   "id": "4c131ddd",
   "metadata": {},
   "outputs": [
    {
     "name": "stdout",
     "output_type": "stream",
     "text": [
      "pi= 3.14\n",
      "square area= 25\n",
      "circle area= 12.56\n"
     ]
    }
   ],
   "source": [
    "import my_area\n",
    "\n",
    "print('pi=', my_area.PI)\n",
    "print('square area=', my_area.square_area(5))\n",
    "print('circle area=', my_area.circle_area(2))"
   ]
  },
  {
   "cell_type": "code",
   "execution_count": 7,
   "id": "7a359b57",
   "metadata": {},
   "outputs": [
    {
     "data": {
      "text/plain": [
       "['PI',\n",
       " '__builtins__',\n",
       " '__cached__',\n",
       " '__doc__',\n",
       " '__file__',\n",
       " '__loader__',\n",
       " '__name__',\n",
       " '__package__',\n",
       " '__spec__',\n",
       " 'circle_area',\n",
       " 'square_area']"
      ]
     },
     "execution_count": 7,
     "metadata": {},
     "output_type": "execute_result"
    }
   ],
   "source": [
    "dir(my_area)"
   ]
  },
  {
   "cell_type": "code",
   "execution_count": 10,
   "id": "adedbe1a",
   "metadata": {},
   "outputs": [
    {
     "name": "stdout",
     "output_type": "stream",
     "text": [
      "pi= 3.14\n"
     ]
    }
   ],
   "source": [
    "from my_area import PI\n",
    "\n",
    "print('pi=', PI)"
   ]
  },
  {
   "cell_type": "code",
   "execution_count": 12,
   "id": "86a4c66e",
   "metadata": {},
   "outputs": [
    {
     "name": "stdout",
     "output_type": "stream",
     "text": [
      "square area= 25\n",
      "circle area= 12.56\n"
     ]
    }
   ],
   "source": [
    "from my_area import square_area\n",
    "from my_area import circle_area\n",
    "\n",
    "print('square area=', square_area(5))\n",
    "print('circle area=', circle_area(2))"
   ]
  },
  {
   "cell_type": "code",
   "execution_count": 19,
   "id": "e660c0b4",
   "metadata": {},
   "outputs": [
    {
     "name": "stdout",
     "output_type": "stream",
     "text": [
      "pi= 3.14\n",
      "square area= 25\n",
      "circle area= 12.56\n"
     ]
    }
   ],
   "source": [
    "from my_area import PI, square_area, circle_area\n",
    "\n",
    "print('pi=', PI)\n",
    "print('square area=', square_area(5))\n",
    "print('circle area=', circle_area(2))"
   ]
  },
  {
   "cell_type": "code",
   "execution_count": 20,
   "id": "752f93f7",
   "metadata": {},
   "outputs": [
    {
     "name": "stdout",
     "output_type": "stream",
     "text": [
      "pi= 3.14\n",
      "square area= 25\n",
      "circle area= 12.56\n"
     ]
    }
   ],
   "source": [
    "from my_area import *\n",
    "\n",
    "print('pi=', PI)\n",
    "print('square area=', square_area(5))\n",
    "print('circle area=', circle_area(2))"
   ]
  },
  {
   "cell_type": "code",
   "execution_count": 21,
   "id": "2e8a9d1b",
   "metadata": {},
   "outputs": [
    {
     "name": "stdout",
     "output_type": "stream",
     "text": [
      "Writing my_module1.py\n"
     ]
    }
   ],
   "source": [
    "%%writefile my_module1.py\n",
    "\n",
    "def func1():\n",
    "    print('func1 in my_module1')\n",
    "    \n",
    "def func2():\n",
    "    print('func2 in my_module1')"
   ]
  },
  {
   "cell_type": "code",
   "execution_count": 22,
   "id": "e60a67e8",
   "metadata": {},
   "outputs": [
    {
     "name": "stdout",
     "output_type": "stream",
     "text": [
      "Writing my_module2.py\n"
     ]
    }
   ],
   "source": [
    "%%writefile my_module2.py\n",
    "\n",
    "def func2():\n",
    "    print('func2 in my_module2')\n",
    "    \n",
    "def func3():\n",
    "    print('func3 in my_module2')"
   ]
  },
  {
   "cell_type": "code",
   "execution_count": 23,
   "id": "203da50e",
   "metadata": {},
   "outputs": [
    {
     "name": "stdout",
     "output_type": "stream",
     "text": [
      "func1 in my_module1\n",
      "func2 in my_module2\n",
      "func3 in my_module2\n"
     ]
    }
   ],
   "source": [
    "from my_module1 import *\n",
    "from my_module2 import *\n",
    "\n",
    "func1()\n",
    "func2()\n",
    "func3()"
   ]
  },
  {
   "cell_type": "code",
   "execution_count": 24,
   "id": "cec29f0e",
   "metadata": {},
   "outputs": [
    {
     "name": "stdout",
     "output_type": "stream",
     "text": [
      "func1 in my_module1\n",
      "func2 in my_module1\n",
      "func3 in my_module2\n"
     ]
    }
   ],
   "source": [
    "from my_module2 import *\n",
    "from my_module1 import *\n",
    "\n",
    "func1()\n",
    "func2()\n",
    "func3()"
   ]
  },
  {
   "cell_type": "code",
   "execution_count": 25,
   "id": "c349b5a0",
   "metadata": {},
   "outputs": [
    {
     "name": "stdout",
     "output_type": "stream",
     "text": [
      "pi= 3.14\n",
      "square area= 25\n",
      "circle area= 12.56\n"
     ]
    }
   ],
   "source": [
    "import my_area as area\n",
    "\n",
    "print('pi=', area.PI)\n",
    "print('square area=', area.square_area(5))\n",
    "print('circle area=', area.circle_area(2))"
   ]
  },
  {
   "cell_type": "code",
   "execution_count": 27,
   "id": "3f18a1fc",
   "metadata": {},
   "outputs": [
    {
     "name": "stdout",
     "output_type": "stream",
     "text": [
      "pi= 3.14\n",
      "square area= 25\n",
      "circle area= 12.56\n"
     ]
    }
   ],
   "source": [
    "from my_area import PI as pi\n",
    "from my_area import square_area as square\n",
    "from my_area import circle_area as circle\n",
    "\n",
    "print('pi=', pi)\n",
    "print('square area=', square(5))\n",
    "print('circle area=', circle(2))"
   ]
  },
  {
   "cell_type": "code",
   "execution_count": 28,
   "id": "e6c30f3d",
   "metadata": {},
   "outputs": [
    {
     "name": "stdout",
     "output_type": "stream",
     "text": [
      "Writing my_module_test1.py\n"
     ]
    }
   ],
   "source": [
    "%%writefile my_module_test1.py\n",
    "\n",
    "def func(a):\n",
    "    print('입력 숫자:',a)\n",
    "    \n",
    "func(3)"
   ]
  },
  {
   "cell_type": "code",
   "execution_count": 29,
   "id": "71ab79a2",
   "metadata": {},
   "outputs": [
    {
     "name": "stdout",
     "output_type": "stream",
     "text": [
      "입력 숫자: 3\n"
     ]
    }
   ],
   "source": [
    "%run my_module_test1.py"
   ]
  },
  {
   "cell_type": "code",
   "execution_count": 30,
   "id": "0d1e7f19",
   "metadata": {},
   "outputs": [
    {
     "name": "stdout",
     "output_type": "stream",
     "text": [
      "입력 숫자: 3\n"
     ]
    }
   ],
   "source": [
    "import my_module_test1"
   ]
  },
  {
   "cell_type": "code",
   "execution_count": 34,
   "id": "71d779a3",
   "metadata": {},
   "outputs": [
    {
     "name": "stdout",
     "output_type": "stream",
     "text": [
      "Overwriting my_module_test2.py\n"
     ]
    }
   ],
   "source": [
    "%%writefile my_module_test2.py\n",
    "\n",
    "def func(a):\n",
    "    print('입력 숫자:',a)\n",
    "    \n",
    "if __name__=='__main__':\n",
    "    print('모듈을 직접 실행')\n",
    "    func(3)\n",
    "    func(4)"
   ]
  },
  {
   "cell_type": "code",
   "execution_count": 35,
   "id": "8ef331d6",
   "metadata": {},
   "outputs": [
    {
     "name": "stdout",
     "output_type": "stream",
     "text": [
      "모듈을 직접 실행\n",
      "입력 숫자: 3\n",
      "입력 숫자: 4\n"
     ]
    }
   ],
   "source": [
    "%run my_module_test2.py"
   ]
  },
  {
   "cell_type": "code",
   "execution_count": 36,
   "id": "953908ba",
   "metadata": {},
   "outputs": [],
   "source": [
    "import my_module_test2"
   ]
  },
  {
   "cell_type": "code",
   "execution_count": 37,
   "id": "4540db7a",
   "metadata": {},
   "outputs": [
    {
     "name": "stdout",
     "output_type": "stream",
     "text": [
      "Writing my_module_test3.py\n"
     ]
    }
   ],
   "source": [
    "%%writefile my_module_test3.py\n",
    "\n",
    "def func(a):\n",
    "    print('입력 숫자:',a)\n",
    "    \n",
    "if __name__=='__main__':\n",
    "    print('모듈을 직접 실행')\n",
    "    func(3)\n",
    "    func(4)\n",
    "else:\n",
    "    print('모듈을 임포트해서 실행')"
   ]
  },
  {
   "cell_type": "code",
   "execution_count": 38,
   "id": "ea1abbd6",
   "metadata": {},
   "outputs": [
    {
     "name": "stdout",
     "output_type": "stream",
     "text": [
      "모듈을 직접 실행\n",
      "입력 숫자: 3\n",
      "입력 숫자: 4\n"
     ]
    }
   ],
   "source": [
    "%run my_module_test3.py"
   ]
  },
  {
   "cell_type": "code",
   "execution_count": 39,
   "id": "746016bf",
   "metadata": {},
   "outputs": [
    {
     "name": "stdout",
     "output_type": "stream",
     "text": [
      "모듈을 임포트해서 실행\n"
     ]
    }
   ],
   "source": [
    "import my_module_test3"
   ]
  },
  {
   "cell_type": "code",
   "execution_count": 47,
   "id": "1d8482fa",
   "metadata": {},
   "outputs": [
    {
     "data": {
      "text/plain": [
       "0.6991877979984499"
      ]
     },
     "execution_count": 47,
     "metadata": {},
     "output_type": "execute_result"
    }
   ],
   "source": [
    "import random\n",
    "\n",
    "random.random()"
   ]
  },
  {
   "cell_type": "code",
   "execution_count": 48,
   "id": "b35b20f6",
   "metadata": {},
   "outputs": [
    {
     "name": "stdout",
     "output_type": "stream",
     "text": [
      "주사위 두 개의 숫자: 3, 2\n"
     ]
    }
   ],
   "source": [
    "import random\n",
    "\n",
    "dice1=random.randint(1,6)\n",
    "dice2=random.randint(1,6)\n",
    "print('주사위 두 개의 숫자: {0}, {1}'.format(dice1, dice2))"
   ]
  },
  {
   "cell_type": "code",
   "execution_count": 76,
   "id": "800af4c0",
   "metadata": {},
   "outputs": [
    {
     "data": {
      "text/plain": [
       "2"
      ]
     },
     "execution_count": 76,
     "metadata": {},
     "output_type": "execute_result"
    }
   ],
   "source": [
    "import random\n",
    "random.randrange(0,11,2)"
   ]
  },
  {
   "cell_type": "code",
   "execution_count": 77,
   "id": "c2cadc33",
   "metadata": {},
   "outputs": [
    {
     "name": "stdout",
     "output_type": "stream",
     "text": [
      "num1:1, num2: 20\n"
     ]
    }
   ],
   "source": [
    "import random\n",
    "\n",
    "num1=random.randrange(1,10,2)\n",
    "num2=random.randrange(0,100,10)\n",
    "print('num1:{0}, num2: {1}'.format(num1,num2))"
   ]
  },
  {
   "cell_type": "code",
   "execution_count": 78,
   "id": "37e5febd",
   "metadata": {},
   "outputs": [
    {
     "data": {
      "text/plain": [
       "'비빔밥'"
      ]
     },
     "execution_count": 78,
     "metadata": {},
     "output_type": "execute_result"
    }
   ],
   "source": [
    "import random\n",
    "\n",
    "menu = ['비빔밥', '된장찌개', '볶음밥', '불고기', '스파게티', '피자', '탕수육']\n",
    "random.choice(menu)"
   ]
  },
  {
   "cell_type": "code",
   "execution_count": 86,
   "id": "0ca6d856",
   "metadata": {
    "scrolled": true
   },
   "outputs": [
    {
     "data": {
      "text/plain": [
       "[1, 5]"
      ]
     },
     "execution_count": 86,
     "metadata": {},
     "output_type": "execute_result"
    }
   ],
   "source": [
    "import random\n",
    "\n",
    "random.sample([1,2,3,4,5],2)"
   ]
  },
  {
   "cell_type": "code",
   "execution_count": 87,
   "id": "e9392707",
   "metadata": {},
   "outputs": [
    {
     "name": "stdout",
     "output_type": "stream",
     "text": [
      "2021-08-02\n"
     ]
    }
   ],
   "source": [
    "import datetime\n",
    "\n",
    "set_day=datetime.date(2021,8,2)\n",
    "print(set_day)"
   ]
  },
  {
   "cell_type": "code",
   "execution_count": 88,
   "id": "aeef6175",
   "metadata": {},
   "outputs": [
    {
     "name": "stdout",
     "output_type": "stream",
     "text": [
      "2021/8/2\n"
     ]
    }
   ],
   "source": [
    "print('{0}/{1}/{2}'.format(set_day.year,set_day.month,set_day.day))"
   ]
  },
  {
   "cell_type": "code",
   "execution_count": 89,
   "id": "528f3e43",
   "metadata": {},
   "outputs": [
    {
     "name": "stdout",
     "output_type": "stream",
     "text": [
      "100 days, 0:00:00\n"
     ]
    }
   ],
   "source": [
    "import datetime\n",
    "\n",
    "day1=datetime.date(2021,4,1)\n",
    "day2=datetime.date(2021,7,10)\n",
    "diff_day=day2-day1\n",
    "print(diff_day)"
   ]
  },
  {
   "cell_type": "code",
   "execution_count": 92,
   "id": "67331429",
   "metadata": {},
   "outputs": [
    {
     "data": {
      "text/plain": [
       "datetime.date"
      ]
     },
     "execution_count": 92,
     "metadata": {},
     "output_type": "execute_result"
    }
   ],
   "source": [
    "type(day1)"
   ]
  },
  {
   "cell_type": "code",
   "execution_count": 93,
   "id": "eac40bee",
   "metadata": {},
   "outputs": [
    {
     "data": {
      "text/plain": [
       "datetime.timedelta"
      ]
     },
     "execution_count": 93,
     "metadata": {},
     "output_type": "execute_result"
    }
   ],
   "source": [
    "type(diff_day)"
   ]
  },
  {
   "cell_type": "code",
   "execution_count": 94,
   "id": "41732f40",
   "metadata": {},
   "outputs": [
    {
     "name": "stdout",
     "output_type": "stream",
     "text": [
      "**지정된 두 날자의 차이는 100일입니다.**\n"
     ]
    }
   ],
   "source": [
    "print('**지정된 두 날자의 차이는 {}일입니다.**'.format(diff_day.days))"
   ]
  },
  {
   "cell_type": "code",
   "execution_count": 95,
   "id": "667d5456",
   "metadata": {},
   "outputs": [
    {
     "name": "stdout",
     "output_type": "stream",
     "text": [
      "2021-08-03\n"
     ]
    }
   ],
   "source": [
    "import datetime\n",
    "\n",
    "print(datetime.date.today())"
   ]
  },
  {
   "cell_type": "code",
   "execution_count": 97,
   "id": "d5a02154",
   "metadata": {},
   "outputs": [
    {
     "name": "stdout",
     "output_type": "stream",
     "text": [
      "-215 days, 0:00:00\n"
     ]
    }
   ],
   "source": [
    "import datetime\n",
    "\n",
    "today=datetime.date.today()\n",
    "special_day=datetime.date(2020,12,31)\n",
    "print(special_day-today)"
   ]
  },
  {
   "cell_type": "code",
   "execution_count": 98,
   "id": "75358e0c",
   "metadata": {},
   "outputs": [
    {
     "name": "stdout",
     "output_type": "stream",
     "text": [
      "15:30:45\n"
     ]
    }
   ],
   "source": [
    "import datetime\n",
    "\n",
    "set_time=datetime.time(15,30,45)\n",
    "print(set_time)"
   ]
  },
  {
   "cell_type": "code",
   "execution_count": 99,
   "id": "05521f41",
   "metadata": {},
   "outputs": [
    {
     "name": "stdout",
     "output_type": "stream",
     "text": [
      "15:30:45\n"
     ]
    }
   ],
   "source": [
    "print('{0}:{1}:{2}'.format(set_time.hour,set_time.minute, set_time.second))"
   ]
  },
  {
   "cell_type": "code",
   "execution_count": 103,
   "id": "c5c57481",
   "metadata": {},
   "outputs": [
    {
     "name": "stdout",
     "output_type": "stream",
     "text": [
      "2021-08-02 10:20:00\n"
     ]
    }
   ],
   "source": [
    "import datetime\n",
    "\n",
    "set_dt=datetime.datetime(2021,8,2,10,20,0)\n",
    "print(set_dt)"
   ]
  },
  {
   "cell_type": "code",
   "execution_count": 104,
   "id": "0129f13f",
   "metadata": {},
   "outputs": [
    {
     "data": {
      "text/plain": [
       "datetime.datetime"
      ]
     },
     "execution_count": 104,
     "metadata": {},
     "output_type": "execute_result"
    }
   ],
   "source": [
    "type(set_dt)"
   ]
  },
  {
   "cell_type": "code",
   "execution_count": 105,
   "id": "72d5bf76",
   "metadata": {},
   "outputs": [
    {
     "name": "stdout",
     "output_type": "stream",
     "text": [
      "날짜 2021/8/2\n",
      "시각 10:20:2\n"
     ]
    }
   ],
   "source": [
    "print('날짜 {0}/{1}/{2}'.format(set_dt.year, set_dt.month, set_dt.day))\n",
    "print('시각 {0}:{1}:2'.format(set_dt.hour, set_dt.minute, set_dt.second))"
   ]
  },
  {
   "cell_type": "code",
   "execution_count": 115,
   "id": "fbd95f31",
   "metadata": {},
   "outputs": [
    {
     "name": "stdout",
     "output_type": "stream",
     "text": [
      "2021-08-03 15:49:24.528774\n"
     ]
    }
   ],
   "source": [
    "import datetime\n",
    "\n",
    "now=datetime.datetime.now()\n",
    "print(now)"
   ]
  },
  {
   "cell_type": "code",
   "execution_count": 116,
   "id": "e47fff8a",
   "metadata": {},
   "outputs": [
    {
     "name": "stdout",
     "output_type": "stream",
     "text": [
      "Date&Time: 2021-08-03, 15:49:24\n"
     ]
    }
   ],
   "source": [
    "print('Date&Time: {:%Y-%m-%d, %H:%M:%S}'.format(now))"
   ]
  },
  {
   "cell_type": "code",
   "execution_count": 117,
   "id": "a522ad7d",
   "metadata": {},
   "outputs": [
    {
     "name": "stdout",
     "output_type": "stream",
     "text": [
      "Date:2021,08,03\n",
      "Time:15/49/24\n"
     ]
    }
   ],
   "source": [
    "print('Date:{:%Y,%m,%d}'.format(now))\n",
    "print('Time:{:%H/%M/%S}'.format(now))"
   ]
  },
  {
   "cell_type": "code",
   "execution_count": 119,
   "id": "d3fb6de7",
   "metadata": {},
   "outputs": [
    {
     "name": "stdout",
     "output_type": "stream",
     "text": [
      "현재 날자 및 시각: 2021-08-03 16:01:41.077984\n",
      "차이: -246 days, 20:29:03.922016\n"
     ]
    }
   ],
   "source": [
    "now=datetime.datetime.now()\n",
    "set_dt=datetime.datetime(2020,12,1,12,30,45)\n",
    "\n",
    "print('현재 날자 및 시각:',now)\n",
    "print('차이:', set_dt-now)"
   ]
  },
  {
   "cell_type": "code",
   "execution_count": 120,
   "id": "5baf5840",
   "metadata": {},
   "outputs": [
    {
     "name": "stdout",
     "output_type": "stream",
     "text": [
      "2021-07-01\n"
     ]
    }
   ],
   "source": [
    "from datetime import date, time, datetime\n",
    "\n",
    "print(date(2021,7,1))"
   ]
  },
  {
   "cell_type": "code",
   "execution_count": 121,
   "id": "874ba941",
   "metadata": {},
   "outputs": [
    {
     "name": "stdout",
     "output_type": "stream",
     "text": [
      "2021-08-03\n"
     ]
    }
   ],
   "source": [
    "print(date.today())"
   ]
  },
  {
   "cell_type": "code",
   "execution_count": 122,
   "id": "132b6284",
   "metadata": {},
   "outputs": [
    {
     "name": "stdout",
     "output_type": "stream",
     "text": [
      "15:30:45\n"
     ]
    }
   ],
   "source": [
    "print(time(15,30,45))"
   ]
  },
  {
   "cell_type": "code",
   "execution_count": 123,
   "id": "19a56cd1",
   "metadata": {},
   "outputs": [
    {
     "name": "stdout",
     "output_type": "stream",
     "text": [
      "2021-02-14 18:10:50\n"
     ]
    }
   ],
   "source": [
    "print(datetime(2021,2,14,18,10,50))"
   ]
  },
  {
   "cell_type": "code",
   "execution_count": 124,
   "id": "9f6ee05e",
   "metadata": {},
   "outputs": [
    {
     "name": "stdout",
     "output_type": "stream",
     "text": [
      "2021-08-03 16:04:46.510921\n"
     ]
    }
   ],
   "source": [
    "print(datetime.now())"
   ]
  },
  {
   "cell_type": "code",
   "execution_count": 125,
   "id": "23e1fcf4",
   "metadata": {},
   "outputs": [
    {
     "name": "stdout",
     "output_type": "stream",
     "text": [
      "                                  2021\n",
      "\n",
      "      January                   February                   March\n",
      "Mo Tu We Th Fr Sa Su      Mo Tu We Th Fr Sa Su      Mo Tu We Th Fr Sa Su\n",
      "             1  2  3       1  2  3  4  5  6  7       1  2  3  4  5  6  7\n",
      " 4  5  6  7  8  9 10       8  9 10 11 12 13 14       8  9 10 11 12 13 14\n",
      "11 12 13 14 15 16 17      15 16 17 18 19 20 21      15 16 17 18 19 20 21\n",
      "18 19 20 21 22 23 24      22 23 24 25 26 27 28      22 23 24 25 26 27 28\n",
      "25 26 27 28 29 30 31                                29 30 31\n",
      "\n",
      "       April                      May                       June\n",
      "Mo Tu We Th Fr Sa Su      Mo Tu We Th Fr Sa Su      Mo Tu We Th Fr Sa Su\n",
      "          1  2  3  4                      1  2          1  2  3  4  5  6\n",
      " 5  6  7  8  9 10 11       3  4  5  6  7  8  9       7  8  9 10 11 12 13\n",
      "12 13 14 15 16 17 18      10 11 12 13 14 15 16      14 15 16 17 18 19 20\n",
      "19 20 21 22 23 24 25      17 18 19 20 21 22 23      21 22 23 24 25 26 27\n",
      "26 27 28 29 30            24 25 26 27 28 29 30      28 29 30\n",
      "                          31\n",
      "\n",
      "        July                     August                  September\n",
      "Mo Tu We Th Fr Sa Su      Mo Tu We Th Fr Sa Su      Mo Tu We Th Fr Sa Su\n",
      "          1  2  3  4                         1             1  2  3  4  5\n",
      " 5  6  7  8  9 10 11       2  3  4  5  6  7  8       6  7  8  9 10 11 12\n",
      "12 13 14 15 16 17 18       9 10 11 12 13 14 15      13 14 15 16 17 18 19\n",
      "19 20 21 22 23 24 25      16 17 18 19 20 21 22      20 21 22 23 24 25 26\n",
      "26 27 28 29 30 31         23 24 25 26 27 28 29      27 28 29 30\n",
      "                          30 31\n",
      "\n",
      "      October                   November                  December\n",
      "Mo Tu We Th Fr Sa Su      Mo Tu We Th Fr Sa Su      Mo Tu We Th Fr Sa Su\n",
      "             1  2  3       1  2  3  4  5  6  7             1  2  3  4  5\n",
      " 4  5  6  7  8  9 10       8  9 10 11 12 13 14       6  7  8  9 10 11 12\n",
      "11 12 13 14 15 16 17      15 16 17 18 19 20 21      13 14 15 16 17 18 19\n",
      "18 19 20 21 22 23 24      22 23 24 25 26 27 28      20 21 22 23 24 25 26\n",
      "25 26 27 28 29 30 31      29 30                     27 28 29 30 31\n",
      "\n"
     ]
    }
   ],
   "source": [
    "import calendar\n",
    "\n",
    "print(calendar.calendar(2021))"
   ]
  },
  {
   "cell_type": "code",
   "execution_count": 127,
   "id": "0e8dcef3",
   "metadata": {},
   "outputs": [
    {
     "name": "stdout",
     "output_type": "stream",
     "text": [
      "                     2021\n",
      "\n",
      "      January                   February\n",
      "Mo Tu We Th Fr Sa Su      Mo Tu We Th Fr Sa Su\n",
      "             1  2  3       1  2  3  4  5  6  7\n",
      " 4  5  6  7  8  9 10       8  9 10 11 12 13 14\n",
      "11 12 13 14 15 16 17      15 16 17 18 19 20 21\n",
      "18 19 20 21 22 23 24      22 23 24 25 26 27 28\n",
      "25 26 27 28 29 30 31\n",
      "\n",
      "       March                     April\n",
      "Mo Tu We Th Fr Sa Su      Mo Tu We Th Fr Sa Su\n",
      " 1  2  3  4  5  6  7                1  2  3  4\n",
      " 8  9 10 11 12 13 14       5  6  7  8  9 10 11\n",
      "15 16 17 18 19 20 21      12 13 14 15 16 17 18\n",
      "22 23 24 25 26 27 28      19 20 21 22 23 24 25\n",
      "29 30 31                  26 27 28 29 30\n",
      "\n",
      "        May                       June\n",
      "Mo Tu We Th Fr Sa Su      Mo Tu We Th Fr Sa Su\n",
      "                1  2          1  2  3  4  5  6\n",
      " 3  4  5  6  7  8  9       7  8  9 10 11 12 13\n",
      "10 11 12 13 14 15 16      14 15 16 17 18 19 20\n",
      "17 18 19 20 21 22 23      21 22 23 24 25 26 27\n",
      "24 25 26 27 28 29 30      28 29 30\n",
      "31\n",
      "\n",
      "        July                     August\n",
      "Mo Tu We Th Fr Sa Su      Mo Tu We Th Fr Sa Su\n",
      "          1  2  3  4                         1\n",
      " 5  6  7  8  9 10 11       2  3  4  5  6  7  8\n",
      "12 13 14 15 16 17 18       9 10 11 12 13 14 15\n",
      "19 20 21 22 23 24 25      16 17 18 19 20 21 22\n",
      "26 27 28 29 30 31         23 24 25 26 27 28 29\n",
      "                          30 31\n",
      "\n",
      "     September                  October\n",
      "Mo Tu We Th Fr Sa Su      Mo Tu We Th Fr Sa Su\n",
      "       1  2  3  4  5                   1  2  3\n",
      " 6  7  8  9 10 11 12       4  5  6  7  8  9 10\n",
      "13 14 15 16 17 18 19      11 12 13 14 15 16 17\n",
      "20 21 22 23 24 25 26      18 19 20 21 22 23 24\n",
      "27 28 29 30               25 26 27 28 29 30 31\n",
      "\n",
      "      November                  December\n",
      "Mo Tu We Th Fr Sa Su      Mo Tu We Th Fr Sa Su\n",
      " 1  2  3  4  5  6  7             1  2  3  4  5\n",
      " 8  9 10 11 12 13 14       6  7  8  9 10 11 12\n",
      "15 16 17 18 19 20 21      13 14 15 16 17 18 19\n",
      "22 23 24 25 26 27 28      20 21 22 23 24 25 26\n",
      "29 30                     27 28 29 30 31\n",
      "\n"
     ]
    }
   ],
   "source": [
    "print(calendar.calendar(2021,m=2))"
   ]
  },
  {
   "cell_type": "code",
   "execution_count": 128,
   "id": "9cbd1bd4",
   "metadata": {},
   "outputs": [
    {
     "name": "stdout",
     "output_type": "stream",
     "text": [
      "   September 2021\n",
      "Mo Tu We Th Fr Sa Su\n",
      "       1  2  3  4  5\n",
      " 6  7  8  9 10 11 12\n",
      "13 14 15 16 17 18 19\n",
      "20 21 22 23 24 25 26\n",
      "27 28 29 30\n",
      "\n"
     ]
    }
   ],
   "source": [
    "print(calendar.month(2021,9))"
   ]
  },
  {
   "cell_type": "code",
   "execution_count": 129,
   "id": "dffc876e",
   "metadata": {},
   "outputs": [
    {
     "data": {
      "text/plain": [
       "(0, 28)"
      ]
     },
     "execution_count": 129,
     "metadata": {},
     "output_type": "execute_result"
    }
   ],
   "source": [
    "calendar.monthrange(2021,2)"
   ]
  },
  {
   "cell_type": "code",
   "execution_count": 130,
   "id": "df60b3ce",
   "metadata": {},
   "outputs": [
    {
     "data": {
      "text/plain": [
       "0"
      ]
     },
     "execution_count": 130,
     "metadata": {},
     "output_type": "execute_result"
    }
   ],
   "source": [
    "calendar.firstweekday()"
   ]
  },
  {
   "cell_type": "code",
   "execution_count": 133,
   "id": "ae0ff90a",
   "metadata": {},
   "outputs": [
    {
     "name": "stdout",
     "output_type": "stream",
     "text": [
      "    August 2021\n",
      "Su Mo Tu We Th Fr Sa\n",
      " 1  2  3  4  5  6  7\n",
      " 8  9 10 11 12 13 14\n",
      "15 16 17 18 19 20 21\n",
      "22 23 24 25 26 27 28\n",
      "29 30 31\n",
      "\n"
     ]
    }
   ],
   "source": [
    "calendar.setfirstweekday(calendar.SUNDAY)\n",
    "print(calendar.month(2021,8))"
   ]
  },
  {
   "cell_type": "code",
   "execution_count": 134,
   "id": "456df959",
   "metadata": {},
   "outputs": [
    {
     "name": "stdout",
     "output_type": "stream",
     "text": [
      "6\n"
     ]
    }
   ],
   "source": [
    "print(calendar.weekday(2021,8,1))"
   ]
  },
  {
   "cell_type": "code",
   "execution_count": 135,
   "id": "22bd3f1e",
   "metadata": {},
   "outputs": [
    {
     "name": "stdout",
     "output_type": "stream",
     "text": [
      "True\n",
      "False\n"
     ]
    }
   ],
   "source": [
    "print(calendar.isleap(2020))\n",
    "print(calendar.isleap(2021))"
   ]
  },
  {
   "cell_type": "code",
   "execution_count": 140,
   "id": "97b782f9",
   "metadata": {},
   "outputs": [
    {
     "name": "stdout",
     "output_type": "stream",
     "text": [
      "Overwriting image/io_file/imgread.py\n"
     ]
    }
   ],
   "source": [
    "%%writefile image/io_file/imgread.py\n",
    "\n",
    "def pngread():\n",
    "    print('pngread in imgread module')\n",
    "\n",
    "def jpgread():\n",
    "    print('jpgread in imgread module')"
   ]
  },
  {
   "cell_type": "code",
   "execution_count": 142,
   "id": "afc00b6f",
   "metadata": {},
   "outputs": [
    {
     "name": "stdout",
     "output_type": "stream",
     "text": [
      "pngread in imgread module\n",
      "jpgread in imgread module\n"
     ]
    }
   ],
   "source": [
    "import image.io_file.imgread\n",
    "\n",
    "image.io_file.imgread.pngread()\n",
    "image.io_file.imgread.jpgread()"
   ]
  },
  {
   "cell_type": "code",
   "execution_count": 143,
   "id": "c11d8982",
   "metadata": {},
   "outputs": [
    {
     "name": "stdout",
     "output_type": "stream",
     "text": [
      "pngread in imgread module\n",
      "jpgread in imgread module\n"
     ]
    }
   ],
   "source": [
    "from image.io_file import imgread\n",
    "\n",
    "imgread.pngread()\n",
    "imgread.jpgread()"
   ]
  },
  {
   "cell_type": "code",
   "execution_count": 144,
   "id": "baee929d",
   "metadata": {},
   "outputs": [
    {
     "name": "stdout",
     "output_type": "stream",
     "text": [
      "pngread in imgread module\n"
     ]
    }
   ],
   "source": [
    "from image.io_file.imgread import pngread\n",
    "\n",
    "pngread()"
   ]
  },
  {
   "cell_type": "code",
   "execution_count": 145,
   "id": "70bfa141",
   "metadata": {},
   "outputs": [
    {
     "name": "stdout",
     "output_type": "stream",
     "text": [
      "pngread in imgread module\n",
      "jpgread in imgread module\n"
     ]
    }
   ],
   "source": [
    "from image.io_file.imgread import *\n",
    "\n",
    "pngread()\n",
    "jpgread()"
   ]
  },
  {
   "cell_type": "code",
   "execution_count": 146,
   "id": "3147f6ce",
   "metadata": {
    "scrolled": true
   },
   "outputs": [
    {
     "name": "stdout",
     "output_type": "stream",
     "text": [
      "pngread in imgread module\n",
      "jpgread in imgread module\n"
     ]
    }
   ],
   "source": [
    "from image.io_file.imgread import pngread, jpgread\n",
    "\n",
    "pngread()\n",
    "jpgread()"
   ]
  },
  {
   "cell_type": "code",
   "execution_count": 148,
   "id": "f94d19a8",
   "metadata": {},
   "outputs": [
    {
     "name": "stdout",
     "output_type": "stream",
     "text": [
      "pngread in imgread module\n",
      "jpgread in imgread module\n"
     ]
    }
   ],
   "source": [
    "from image.io_file.imgread import pngread as pread\n",
    "from image.io_file.imgread import jpgread as jread\n",
    "\n",
    "pread()\n",
    "jread()"
   ]
  }
 ],
 "metadata": {
  "kernelspec": {
   "display_name": "Python 3",
   "language": "python",
   "name": "python3"
  },
  "language_info": {
   "codemirror_mode": {
    "name": "ipython",
    "version": 3
   },
   "file_extension": ".py",
   "mimetype": "text/x-python",
   "name": "python",
   "nbconvert_exporter": "python",
   "pygments_lexer": "ipython3",
   "version": "3.8.8"
  }
 },
 "nbformat": 4,
 "nbformat_minor": 5
}
