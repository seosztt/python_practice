{
 "cells": [
  {
   "cell_type": "code",
   "execution_count": 1,
   "id": "cf708230",
   "metadata": {},
   "outputs": [
    {
     "name": "stdout",
     "output_type": "stream",
     "text": [
      "Best python book\n"
     ]
    }
   ],
   "source": [
    "print(\"Best\", \"python\", \"book\")"
   ]
  },
  {
   "cell_type": "code",
   "execution_count": 2,
   "id": "67bd9b14",
   "metadata": {},
   "outputs": [
    {
     "name": "stdout",
     "output_type": "stream",
     "text": [
      "Best-:*:-python-:*:-book\n"
     ]
    }
   ],
   "source": [
    "print(\"Best\", \"python\", \"book\", sep=\"-:*:-\")"
   ]
  },
  {
   "cell_type": "code",
   "execution_count": 3,
   "id": "bfe4fe26",
   "metadata": {},
   "outputs": [
    {
     "name": "stdout",
     "output_type": "stream",
     "text": [
      "Best python book: This book\n"
     ]
    }
   ],
   "source": [
    "print(\"Best\", \"python\", \"book\" + \":\", \"This book\")"
   ]
  },
  {
   "cell_type": "code",
   "execution_count": 7,
   "id": "81cfe6df",
   "metadata": {},
   "outputs": [
    {
     "name": "stdout",
     "output_type": "stream",
     "text": [
      "10\n"
     ]
    }
   ],
   "source": [
    "x=10\n",
    "print(x)"
   ]
  },
  {
   "cell_type": "code",
   "execution_count": 10,
   "id": "199ca31d",
   "metadata": {},
   "outputs": [
    {
     "name": "stdout",
     "output_type": "stream",
     "text": [
      "Name: James, ID Number 789\n"
     ]
    }
   ],
   "source": [
    "name=\"James\"\n",
    "ID_num = 789\n",
    "print('Name:', name + \",\", \"ID Number\" , ID_num)"
   ]
  },
  {
   "cell_type": "code",
   "execution_count": 11,
   "id": "cf7bfbc2",
   "metadata": {},
   "outputs": [
    {
     "name": "stdout",
     "output_type": "stream",
     "text": [
      "James is my friend.\n",
      "He is Korean.\n"
     ]
    }
   ],
   "source": [
    "print('James is my friend.\\nHe is Korean.')"
   ]
  },
  {
   "cell_type": "code",
   "execution_count": 12,
   "id": "6f5ad702",
   "metadata": {
    "scrolled": true
   },
   "outputs": [
    {
     "name": "stdout",
     "output_type": "stream",
     "text": [
      "James is my friend.\n",
      "\n",
      "He is Korean.\n"
     ]
    }
   ],
   "source": [
    "print('James is my friend.\\n\\nHe is Korean.')"
   ]
  },
  {
   "cell_type": "code",
   "execution_count": 13,
   "id": "fbf03812",
   "metadata": {
    "scrolled": false
   },
   "outputs": [
    {
     "name": "stdout",
     "output_type": "stream",
     "text": [
      "Welcome to\n",
      "python!\n"
     ]
    }
   ],
   "source": [
    "print('Welcome to')\n",
    "print('python!')"
   ]
  },
  {
   "cell_type": "code",
   "execution_count": 17,
   "id": "5c51650b",
   "metadata": {
    "scrolled": true
   },
   "outputs": [
    {
     "name": "stdout",
     "output_type": "stream",
     "text": [
      "Welcome to python!\n"
     ]
    }
   ],
   "source": [
    "print(\"Welcome to\", end=\" \")\n",
    "print(\"python!\")"
   ]
  },
  {
   "cell_type": "code",
   "execution_count": 18,
   "id": "12b4bb6b",
   "metadata": {},
   "outputs": [
    {
     "name": "stdout",
     "output_type": "stream",
     "text": [
      "광재는 나의 친구입니다.\n"
     ]
    }
   ],
   "source": [
    "name = \"광재\"\n",
    "print(\"%s는 나의 친구입니다.\" % name)"
   ]
  },
  {
   "cell_type": "code",
   "execution_count": 19,
   "id": "0fafeaf5",
   "metadata": {},
   "outputs": [
    {
     "name": "stdout",
     "output_type": "stream",
     "text": [
      "반지름:3, 원주율: 3.141593\n"
     ]
    }
   ],
   "source": [
    "r=3 # 변수 r에 정수 데이터 할당\n",
    "PI=3.14159265358979\n",
    "print(\"반지름:%d, 원주율: %f\"%(r,PI))"
   ]
  },
  {
   "cell_type": "code",
   "execution_count": 21,
   "id": "7924722a",
   "metadata": {},
   "outputs": [
    {
     "name": "stdout",
     "output_type": "stream",
     "text": [
      "Animal: cat\n",
      "Animal: cat, dog, fox\n"
     ]
    }
   ],
   "source": [
    "animal_0=\"cat\"\n",
    "animal_1=\"dog\"\n",
    "animal_2=\"fox\"\n",
    "\n",
    "print(\"Animal: {0}\".format(animal_0))\n",
    "print(\"Animal: {0}, {1}, {2}\".format(animal_0, animal_1, animal_2))"
   ]
  },
  {
   "cell_type": "code",
   "execution_count": 29,
   "id": "2c671b66",
   "metadata": {
    "scrolled": true
   },
   "outputs": [
    {
     "name": "stdout",
     "output_type": "stream",
     "text": [
      "Animal: dog, fox, cat\n"
     ]
    }
   ],
   "source": [
    "print(\"Animal: {1}, {2}, {0}\".format(animal_0, animal_1, animal_2))"
   ]
  },
  {
   "cell_type": "code",
   "execution_count": 30,
   "id": "03b276c1",
   "metadata": {
    "scrolled": true
   },
   "outputs": [
    {
     "name": "stdout",
     "output_type": "stream",
     "text": [
      "Animal: cat, fox\n"
     ]
    }
   ],
   "source": [
    "print(\"Animal: {0}, {2}\".format(animal_0, animal_1, animal_2))"
   ]
  },
  {
   "cell_type": "code",
   "execution_count": 31,
   "id": "41b3fb88",
   "metadata": {},
   "outputs": [
    {
     "name": "stdout",
     "output_type": "stream",
     "text": [
      "Animal: cat, dog, fox\n"
     ]
    }
   ],
   "source": [
    "print(\"Animal: {}, {}, {}\".format(animal_0, animal_1, animal_2))"
   ]
  },
  {
   "cell_type": "code",
   "execution_count": 32,
   "id": "2f3c6ac0",
   "metadata": {},
   "outputs": [
    {
     "name": "stdout",
     "output_type": "stream",
     "text": [
      "String: Tomas. Integer Number: 10. Floating Number: 0.12345678901234568\n"
     ]
    }
   ],
   "source": [
    "name=\"Tomas\"\n",
    "age=10\n",
    "a=0.1234567890123456789\n",
    "fmt_string=\"String: {0}. Integer Number: {1}. Floating Number: {2}\"\n",
    "print(fmt_string.format(name, age, a))"
   ]
  },
  {
   "cell_type": "code",
   "execution_count": 34,
   "id": "136b41e1",
   "metadata": {
    "scrolled": true
   },
   "outputs": [
    {
     "name": "stdout",
     "output_type": "stream",
     "text": [
      "0.12, 0.98765\n"
     ]
    }
   ],
   "source": [
    "a=0.1234567890123456789\n",
    "b=0.987654234135\n",
    "print(\"{0:.2f}, {1:.5f}\".format(a,b) )"
   ]
  },
  {
   "cell_type": "code",
   "execution_count": 35,
   "id": "c9be7ebb",
   "metadata": {},
   "outputs": [
    {
     "name": "stdout",
     "output_type": "stream",
     "text": [
      "당신의 이름은?임성국\n",
      "당신은 임성국이군요.\n"
     ]
    }
   ],
   "source": [
    "yourName = input(\"당신의 이름은?\")\n",
    "print(\"당신은 {}이군요.\".format(yourName))"
   ]
  },
  {
   "cell_type": "code",
   "execution_count": 36,
   "id": "6d45edd3",
   "metadata": {
    "scrolled": true
   },
   "outputs": [
    {
     "name": "stdout",
     "output_type": "stream",
     "text": [
      "숫자를 입력하세요: 125809\n",
      "당신이 입력한 숫자는 125809입니다.\n"
     ]
    }
   ],
   "source": [
    "num=input(\"숫자를 입력하세요: \")\n",
    "print(\"당신이 입력한 숫자는 {}입니다.\".format(num))"
   ]
  },
  {
   "cell_type": "code",
   "execution_count": 37,
   "id": "d9300510",
   "metadata": {},
   "outputs": [
    {
     "name": "stdout",
     "output_type": "stream",
     "text": [
      "정사각형 한 변의 길이는?: 7\n",
      "정사각형의 넓이: 49\n"
     ]
    }
   ],
   "source": [
    "a=input(\"정사각형 한 변의 길이는?: \")\n",
    "area=int(a)**2\n",
    "print(\"정사각형의 넓이: {}\".format(area))"
   ]
  },
  {
   "cell_type": "code",
   "execution_count": 39,
   "id": "08a5ccaa",
   "metadata": {
    "scrolled": false
   },
   "outputs": [
    {
     "name": "stdout",
     "output_type": "stream",
     "text": [
      "정사각형 한 변의 길이는?: 2\n",
      "정사각형의 넓이: 4.0\n"
     ]
    }
   ],
   "source": [
    "b=input(\"정사각형 한 변의 길이는?: \")\n",
    "area=float(b)**2\n",
    "print(\"정사각형의 넓이: {}\".format(area))"
   ]
  },
  {
   "cell_type": "code",
   "execution_count": 40,
   "id": "2c7674b1",
   "metadata": {},
   "outputs": [],
   "source": [
    "f=open('myFile.txt', 'w')\n",
    "f.write('This is my first file.')\n",
    "f.close()"
   ]
  },
  {
   "cell_type": "code",
   "execution_count": 50,
   "id": "6d12a4d2",
   "metadata": {
    "scrolled": true
   },
   "outputs": [
    {
     "name": "stdout",
     "output_type": "stream",
     "text": [
      "This is my first file.\n"
     ]
    }
   ],
   "source": [
    "f=open('myFile.txt', 'r')\n",
    "file_text=f.read()\n",
    "f.close()\n",
    "\n",
    "print(file_text)"
   ]
  },
  {
   "cell_type": "code",
   "execution_count": 16,
   "id": "ed59d3ab",
   "metadata": {},
   "outputs": [
    {
     "name": "stdout",
     "output_type": "stream",
     "text": [
      "몇단을 저장? 그만하려면 stop5\n",
      "몇단을 저장? 그만하려면 stop7\n",
      "몇단을 저장? 그만하려면 stop2\n",
      "몇단을 저장? 그만하려면 stopstop\n"
     ]
    }
   ],
   "source": [
    "f=open('gugudan_table.txt','w')\n",
    "dan=0\n",
    "while dan!='stop':\n",
    "    dan=input('몇단을 저장? 그만하려면 stop')\n",
    "    if dan=='stop':\n",
    "        f.close()\n",
    "    else:\n",
    "        f.write('##%s단##\\n'%dan)\n",
    "        for num in range(1,10):\n",
    "            format_string='{0}x{1}={2}\\n'.format(dan,num,int(dan)*num)\n",
    "            f.write(format_string)"
   ]
  },
  {
   "cell_type": "code",
   "execution_count": 17,
   "id": "39c69064",
   "metadata": {},
   "outputs": [
    {
     "name": "stdout",
     "output_type": "stream",
     "text": [
      "##5단##\n",
      "5x1=5\n"
     ]
    }
   ],
   "source": [
    "f=open('gugudan_table.txt')\n",
    "line1=f.readline()\n",
    "line2=f.readline()\n",
    "f.close()\n",
    "print(line1, end='')\n",
    "print(line2, end='')"
   ]
  },
  {
   "cell_type": "code",
   "execution_count": 18,
   "id": "395a77da",
   "metadata": {
    "scrolled": true
   },
   "outputs": [
    {
     "name": "stdout",
     "output_type": "stream",
     "text": [
      "##5단##\n",
      "5x1=5\n",
      "5x2=10\n",
      "5x3=15\n",
      "5x4=20\n",
      "5x5=25\n",
      "5x6=30\n",
      "5x7=35\n",
      "5x8=40\n",
      "5x9=45\n",
      "##7단##\n",
      "7x1=7\n",
      "7x2=14\n",
      "7x3=21\n",
      "7x4=28\n",
      "7x5=35\n",
      "7x6=42\n",
      "7x7=49\n",
      "7x8=56\n",
      "7x9=63\n",
      "##2단##\n",
      "2x1=2\n",
      "2x2=4\n",
      "2x3=6\n",
      "2x4=8\n",
      "2x5=10\n",
      "2x6=12\n",
      "2x7=14\n",
      "2x8=16\n",
      "2x9=18\n"
     ]
    }
   ],
   "source": [
    "f=open('gugudan_table.txt')\n",
    "line=f.readline()\n",
    "while line:\n",
    "    print(line, end = '')\n",
    "    line=f.readline()\n",
    "f.close()"
   ]
  },
  {
   "cell_type": "code",
   "execution_count": 19,
   "id": "32dfddc7",
   "metadata": {
    "scrolled": true
   },
   "outputs": [
    {
     "name": "stdout",
     "output_type": "stream",
     "text": [
      "['##5단##\\n', '5x1=5\\n', '5x2=10\\n', '5x3=15\\n', '5x4=20\\n', '5x5=25\\n', '5x6=30\\n', '5x7=35\\n', '5x8=40\\n', '5x9=45\\n', '##7단##\\n', '7x1=7\\n', '7x2=14\\n', '7x3=21\\n', '7x4=28\\n', '7x5=35\\n', '7x6=42\\n', '7x7=49\\n', '7x8=56\\n', '7x9=63\\n', '##2단##\\n', '2x1=2\\n', '2x2=4\\n', '2x3=6\\n', '2x4=8\\n', '2x5=10\\n', '2x6=12\\n', '2x7=14\\n', '2x8=16\\n', '2x9=18\\n']\n"
     ]
    }
   ],
   "source": [
    "f=open('gugudan_table.txt')\n",
    "lines=f.readlines()\n",
    "f.close()\n",
    "\n",
    "print(lines)"
   ]
  },
  {
   "cell_type": "code",
   "execution_count": 29,
   "id": "7d36ed99",
   "metadata": {},
   "outputs": [
    {
     "name": "stdout",
     "output_type": "stream",
     "text": [
      "##5단##\n",
      "5x1=5\n",
      "5x2=10\n",
      "5x3=15\n",
      "5x4=20\n",
      "5x5=25\n",
      "5x6=30\n",
      "5x7=35\n",
      "5x8=40\n",
      "5x9=45\n",
      "##7단##\n",
      "7x1=7\n",
      "7x2=14\n",
      "7x3=21\n",
      "7x4=28\n",
      "7x5=35\n",
      "7x6=42\n",
      "7x7=49\n",
      "7x8=56\n",
      "7x9=63\n",
      "##2단##\n",
      "2x1=2\n",
      "2x2=4\n",
      "2x3=6\n",
      "2x4=8\n",
      "2x5=10\n",
      "2x6=12\n",
      "2x7=14\n",
      "2x8=16\n",
      "2x9=18\n",
      "##5단##\n",
      "5x1=5\n",
      "5x2=10\n",
      "5x3=15\n",
      "5x4=20\n",
      "5x5=25\n",
      "5x6=30\n",
      "5x7=35\n",
      "5x8=40\n",
      "5x9=45\n",
      "##7단##\n",
      "7x1=7\n",
      "7x2=14\n",
      "7x3=21\n",
      "7x4=28\n",
      "7x5=35\n",
      "7x6=42\n",
      "7x7=49\n",
      "7x8=56\n",
      "7x9=63\n",
      "##2단##\n",
      "2x1=2\n",
      "2x2=4\n",
      "2x3=6\n",
      "2x4=8\n",
      "2x5=10\n",
      "2x6=12\n",
      "2x7=14\n",
      "2x8=16\n",
      "2x9=18\n",
      "##5단##\n",
      "5x1=5\n",
      "5x2=10\n",
      "5x3=15\n",
      "5x4=20\n",
      "5x5=25\n",
      "5x6=30\n",
      "5x7=35\n",
      "5x8=40\n",
      "5x9=45\n",
      "##7단##\n",
      "7x1=7\n",
      "7x2=14\n",
      "7x3=21\n",
      "7x4=28\n",
      "7x5=35\n",
      "7x6=42\n",
      "7x7=49\n",
      "7x8=56\n",
      "7x9=63\n",
      "##2단##\n",
      "2x1=2\n",
      "2x2=4\n",
      "2x3=6\n",
      "2x4=8\n",
      "2x5=10\n",
      "2x6=12\n",
      "2x7=14\n",
      "2x8=16\n",
      "2x9=18\n"
     ]
    }
   ],
   "source": [
    "f=open('gugudan_table.txt')\n",
    "lines=f.readlines()\n",
    "f.close()\n",
    "for line in lines:\n",
    "    print(line, end='')\n",
    "    \n",
    "# 더 간단하게\n",
    "    \n",
    "f=open('gugudan_table.txt')\n",
    "for line in f.readlines():\n",
    "    print(line,end='')\n",
    "f.close()\n",
    "\n",
    "## 더더 간단하게\n",
    "f=open('gugudan_table.txt')\n",
    "for line in f:\n",
    "    print(line,end='')\n",
    "f.close()"
   ]
  },
  {
   "cell_type": "code",
   "execution_count": 35,
   "id": "24cd9686",
   "metadata": {},
   "outputs": [],
   "source": [
    "f=open('myTextFile.txt','w')\n",
    "f.write('File write/read test.')\n",
    "f.close()"
   ]
  },
  {
   "cell_type": "code",
   "execution_count": 36,
   "id": "9d986fca",
   "metadata": {
    "scrolled": true
   },
   "outputs": [
    {
     "name": "stdout",
     "output_type": "stream",
     "text": [
      "File write/read test.\n"
     ]
    }
   ],
   "source": [
    "f=open('myTextFile.txt','r')\n",
    "test=f.read()\n",
    "f.close()\n",
    "print(test)"
   ]
  },
  {
   "cell_type": "code",
   "execution_count": 37,
   "id": "4c11835e",
   "metadata": {},
   "outputs": [],
   "source": [
    "with open('myTextFile2.txt','w') as f:\n",
    "    f.write('File read.write test2: line1\\n')\n",
    "    f.write('File read.write test2: line2\\n')\n",
    "    f.write('File read.write test2: line3\\n')"
   ]
  },
  {
   "cell_type": "code",
   "execution_count": 38,
   "id": "c7bc883c",
   "metadata": {
    "scrolled": false
   },
   "outputs": [
    {
     "name": "stdout",
     "output_type": "stream",
     "text": [
      "File read.write test2: line1\n",
      "File read.write test2: line2\n",
      "File read.write test2: line3\n",
      "\n"
     ]
    }
   ],
   "source": [
    "with open('myTextFile2.txt') as f:\n",
    "    file_string=f.read()\n",
    "    print(file_string)"
   ]
  },
  {
   "cell_type": "code",
   "execution_count": 40,
   "id": "9d2acfcf",
   "metadata": {},
   "outputs": [],
   "source": [
    "with open('myTextFile3.txt','w') as f:\n",
    "    for num in range(1,6):\n",
    "        format_string='3x{0}={1}\\n'.format(num,3*num)\n",
    "        f.write(format_string)"
   ]
  },
  {
   "cell_type": "code",
   "execution_count": 42,
   "id": "d668b2d3",
   "metadata": {
    "scrolled": true
   },
   "outputs": [
    {
     "name": "stdout",
     "output_type": "stream",
     "text": [
      "3x1=3\n",
      "3x2=6\n",
      "3x3=9\n",
      "3x4=12\n",
      "3x5=15\n"
     ]
    }
   ],
   "source": [
    "with open('myTextFile3.txt','r') as f:\n",
    "    for line in f:\n",
    "        print(line, end=\"\")"
   ]
  },
  {
   "cell_type": "code",
   "execution_count": null,
   "id": "2f9faca9",
   "metadata": {},
   "outputs": [],
   "source": []
  }
 ],
 "metadata": {
  "kernelspec": {
   "display_name": "Python 3",
   "language": "python",
   "name": "python3"
  },
  "language_info": {
   "codemirror_mode": {
    "name": "ipython",
    "version": 3
   },
   "file_extension": ".py",
   "mimetype": "text/x-python",
   "name": "python",
   "nbconvert_exporter": "python",
   "pygments_lexer": "ipython3",
   "version": "3.8.8"
  }
 },
 "nbformat": 4,
 "nbformat_minor": 5
}
