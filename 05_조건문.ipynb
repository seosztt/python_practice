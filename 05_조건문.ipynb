{
 "cells": [
  {
   "cell_type": "code",
   "execution_count": 1,
   "id": "d7665286",
   "metadata": {},
   "outputs": [
    {
     "name": "stdout",
     "output_type": "stream",
     "text": [
      "pass\n"
     ]
    }
   ],
   "source": [
    "x=95\n",
    "if x>=90:\n",
    "    print(\"pass\")"
   ]
  },
  {
   "cell_type": "code",
   "execution_count": 2,
   "id": "aa08b066",
   "metadata": {},
   "outputs": [
    {
     "name": "stdout",
     "output_type": "stream",
     "text": [
      "Fail\n"
     ]
    }
   ],
   "source": [
    "x=75\n",
    "if x>=90:\n",
    "    print('pass')\n",
    "else:\n",
    "    print('Fail')"
   ]
  },
  {
   "cell_type": "code",
   "execution_count": 6,
   "id": "ba2cd5c3",
   "metadata": {},
   "outputs": [],
   "source": [
    "def score(x):\n",
    "    if x >=90:\n",
    "        print('very good')\n",
    "    elif (x>=80) and (x<90):\n",
    "        print('good')\n",
    "    else:\n",
    "        print('bad')"
   ]
  },
  {
   "cell_type": "code",
   "execution_count": 10,
   "id": "27ed0698",
   "metadata": {},
   "outputs": [],
   "source": [
    "def perfect(x):\n",
    "    if x >=90:\n",
    "        if x==100:\n",
    "            print('Perfect')\n",
    "        else:\n",
    "            print('very good')\n",
    "    elif (x>=80) and (x<90):\n",
    "        print('good')\n",
    "    else:\n",
    "        print('bad')"
   ]
  },
  {
   "cell_type": "code",
   "execution_count": 37,
   "id": "e47b7da0",
   "metadata": {},
   "outputs": [
    {
     "data": {
      "text/plain": [
       "5"
      ]
     },
     "execution_count": 37,
     "metadata": {},
     "output_type": "execute_result"
    }
   ],
   "source": [
    "for i in range(5):\n",
    "    i+=1\n",
    "    \n",
    "i"
   ]
  },
  {
   "cell_type": "code",
   "execution_count": 38,
   "id": "909c755f",
   "metadata": {},
   "outputs": [
    {
     "name": "stdout",
     "output_type": "stream",
     "text": [
      "James\n",
      "Robert\n",
      "Lisa\n",
      "Mary\n"
     ]
    }
   ],
   "source": [
    "myFriends=['James', 'Robert','Lisa','Mary']\n",
    "for myFriend in myFriends:\n",
    "    print(myFriend)"
   ]
  },
  {
   "cell_type": "code",
   "execution_count": 49,
   "id": "206a037c",
   "metadata": {},
   "outputs": [
    {
     "data": {
      "text/plain": [
       "[20, 18, 16, 14, 12, 10, 8, 6, 4, 2]"
      ]
     },
     "execution_count": 49,
     "metadata": {},
     "output_type": "execute_result"
    }
   ],
   "source": [
    "data=[]\n",
    "for i in range(20,0,-2):\n",
    "    data.append(i)\n",
    "\n",
    "data\n"
   ]
  },
  {
   "cell_type": "code",
   "execution_count": 57,
   "id": "d4bca517",
   "metadata": {},
   "outputs": [
    {
     "name": "stdout",
     "output_type": "stream",
     "text": [
      "[0, 5, 10, 15]\n",
      "[-10, -8, -6, -4, -2]\n",
      "[3, 0, -3, -6, -9]\n",
      "[]\n"
     ]
    }
   ],
   "source": [
    "print(list(range(0,20,5)))\n",
    "print(list(range(-10,0,2)))\n",
    "print(list(range(3,-10,-3)))\n",
    "print(list(range(0,-5,1)))"
   ]
  },
  {
   "cell_type": "code",
   "execution_count": 61,
   "id": "8f433aae",
   "metadata": {},
   "outputs": [
    {
     "name": "stdout",
     "output_type": "stream",
     "text": [
      "x1 y1\n",
      "x1 y2\n",
      "x2 y1\n",
      "x2 y2\n"
     ]
    }
   ],
   "source": [
    "x_list = ['x1', 'x2']\n",
    "y_list=['y1','y2']\n",
    "\n",
    "for x in x_list:\n",
    "    for y in y_list:\n",
    "        print(x,y)"
   ]
  },
  {
   "cell_type": "code",
   "execution_count": 64,
   "id": "1ba50555",
   "metadata": {},
   "outputs": [
    {
     "name": "stdout",
     "output_type": "stream",
     "text": [
      "James 95\n",
      "Robert 96\n",
      "Lisa 97\n",
      "Mary 94\n"
     ]
    }
   ],
   "source": [
    "scores=[95,96,97,94]\n",
    "for k in range(len(myFriends)):\n",
    "    print(myFriends[k],scores[k])"
   ]
  },
  {
   "cell_type": "code",
   "execution_count": 65,
   "id": "4c6e0fd2",
   "metadata": {},
   "outputs": [
    {
     "name": "stdout",
     "output_type": "stream",
     "text": [
      "James 95\n",
      "Robert 96\n",
      "Lisa 97\n",
      "Mary 94\n"
     ]
    }
   ],
   "source": [
    "for myFriends, score in zip(myFriends, scores):\n",
    "    print(myFriends, score)"
   ]
  },
  {
   "cell_type": "code",
   "execution_count": 66,
   "id": "91c4457a",
   "metadata": {},
   "outputs": [
    {
     "name": "stdout",
     "output_type": "stream",
     "text": [
      "i sum\n",
      "1 1\n",
      "2 3\n",
      "3 6\n",
      "4 10\n",
      "5 15\n",
      "6 21\n"
     ]
    }
   ],
   "source": [
    "i=0\n",
    "sum=0\n",
    "print('i sum')\n",
    "while (sum<20):\n",
    "    i=i+1\n",
    "    sum=sum+i\n",
    "    print(i,sum)"
   ]
  },
  {
   "cell_type": "code",
   "execution_count": 70,
   "id": "9d49c31b",
   "metadata": {},
   "outputs": [
    {
     "name": "stdout",
     "output_type": "stream",
     "text": [
      "1\n",
      "2\n",
      "3\n"
     ]
    }
   ],
   "source": [
    "k=0\n",
    "while 1:\n",
    "    k=k+1\n",
    "    \n",
    "    if (k>3):\n",
    "        break\n",
    "    \n",
    "    print(k)"
   ]
  },
  {
   "cell_type": "code",
   "execution_count": 73,
   "id": "ddfafe84",
   "metadata": {},
   "outputs": [
    {
     "name": "stdout",
     "output_type": "stream",
     "text": [
      "0\n",
      "1\n",
      "2\n"
     ]
    }
   ],
   "source": [
    "for k in range(10):\n",
    "    if (k>2):\n",
    "        break\n",
    "        \n",
    "    print(k)"
   ]
  },
  {
   "cell_type": "code",
   "execution_count": 76,
   "id": "df93edf7",
   "metadata": {
    "scrolled": true
   },
   "outputs": [
    {
     "name": "stdout",
     "output_type": "stream",
     "text": [
      "0\n",
      "1\n",
      "3\n",
      "4\n"
     ]
    }
   ],
   "source": [
    "for k in range(5):\n",
    "    if (k==2):\n",
    "        continue\n",
    "        \n",
    "    print(k)"
   ]
  },
  {
   "cell_type": "code",
   "execution_count": 77,
   "id": "284f9720",
   "metadata": {
    "scrolled": true
   },
   "outputs": [
    {
     "name": "stdout",
     "output_type": "stream",
     "text": [
      "1\n",
      "continue next\n",
      "3\n",
      "4\n"
     ]
    }
   ],
   "source": [
    "k=0\n",
    "while True:\n",
    "    k=k+1\n",
    "    \n",
    "    if(k==2):\n",
    "        print('continue next')\n",
    "        continue\n",
    "    if(k>4):\n",
    "        break\n",
    "        \n",
    "    print(k)"
   ]
  },
  {
   "cell_type": "code",
   "execution_count": 78,
   "id": "f0e3073a",
   "metadata": {},
   "outputs": [
    {
     "name": "stdout",
     "output_type": "stream",
     "text": [
      "[1, 4, 9, 16, 25]\n"
     ]
    }
   ],
   "source": [
    "num=[1,2,3,4,5]\n",
    "sq=[]\n",
    "\n",
    "for i in num :\n",
    "    sq.append(i**2)\n",
    "    \n",
    "print(sq)"
   ]
  },
  {
   "cell_type": "code",
   "execution_count": 79,
   "id": "93d73a36",
   "metadata": {},
   "outputs": [
    {
     "name": "stdout",
     "output_type": "stream",
     "text": [
      "[1, 4, 9, 16, 25]\n"
     ]
    }
   ],
   "source": [
    "squ=[i**2 for i in num]\n",
    "print(squ)"
   ]
  },
  {
   "cell_type": "code",
   "execution_count": 81,
   "id": "8a18fb74",
   "metadata": {
    "scrolled": true
   },
   "outputs": [
    {
     "name": "stdout",
     "output_type": "stream",
     "text": [
      "[9, 16, 25]\n"
     ]
    }
   ],
   "source": [
    "squa=[]\n",
    "\n",
    "for i in num :\n",
    "    if i >=3:\n",
    "        squa.append(i**2)\n",
    "        \n",
    "print(squa)"
   ]
  },
  {
   "cell_type": "code",
   "execution_count": 83,
   "id": "8478975d",
   "metadata": {
    "scrolled": true
   },
   "outputs": [
    {
     "name": "stdout",
     "output_type": "stream",
     "text": [
      "[9, 16, 25]\n"
     ]
    }
   ],
   "source": [
    "squar=[i**2 for i in num if i>=3]\n",
    "print(squar)"
   ]
  },
  {
   "cell_type": "code",
   "execution_count": 94,
   "id": "82fd6818",
   "metadata": {},
   "outputs": [],
   "source": [
    "def Multiply(a,b):\n",
    "    a*b"
   ]
  },
  {
   "cell_type": "code",
   "execution_count": 96,
   "id": "51102be9",
   "metadata": {},
   "outputs": [
    {
     "name": "stdout",
     "output_type": "stream",
     "text": [
      "6\n"
     ]
    }
   ],
   "source": [
    "Multiply(3,2)"
   ]
  },
  {
   "cell_type": "code",
   "execution_count": null,
   "id": "b9f5e45e",
   "metadata": {},
   "outputs": [],
   "source": []
  }
 ],
 "metadata": {
  "kernelspec": {
   "display_name": "Python 3",
   "language": "python",
   "name": "python3"
  },
  "language_info": {
   "codemirror_mode": {
    "name": "ipython",
    "version": 3
   },
   "file_extension": ".py",
   "mimetype": "text/x-python",
   "name": "python",
   "nbconvert_exporter": "python",
   "pygments_lexer": "ipython3",
   "version": "3.8.8"
  }
 },
 "nbformat": 4,
 "nbformat_minor": 5
}
