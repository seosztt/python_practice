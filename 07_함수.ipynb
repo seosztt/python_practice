{
 "cells": [
  {
   "cell_type": "code",
   "execution_count": 1,
   "id": "b028acf9",
   "metadata": {},
   "outputs": [],
   "source": [
    "def my_func():\n",
    "    print('My first function')\n",
    "    print('This is a function')"
   ]
  },
  {
   "cell_type": "code",
   "execution_count": 2,
   "id": "043e816b",
   "metadata": {},
   "outputs": [
    {
     "name": "stdout",
     "output_type": "stream",
     "text": [
      "My first function\n",
      "This is a function\n"
     ]
    }
   ],
   "source": [
    "my_func()"
   ]
  },
  {
   "cell_type": "code",
   "execution_count": 2,
   "id": "ded5f76b",
   "metadata": {},
   "outputs": [],
   "source": [
    "def my_friend(friendName):\n",
    "    print(\"{}는 나의 친구입니다.\".format(friendName))"
   ]
  },
  {
   "cell_type": "code",
   "execution_count": 3,
   "id": "ca0129b3",
   "metadata": {},
   "outputs": [
    {
     "name": "stdout",
     "output_type": "stream",
     "text": [
      "철수는 나의 친구입니다.\n",
      "영미는 나의 친구입니다.\n"
     ]
    }
   ],
   "source": [
    "my_friend(\"철수\")\n",
    "my_friend(\"영미\")"
   ]
  },
  {
   "cell_type": "code",
   "execution_count": 4,
   "id": "69057d46",
   "metadata": {},
   "outputs": [],
   "source": [
    "def my_student_info(name, school_ID, phoneNumber):\n",
    "    print(\"-----------------------\")\n",
    "    print('- 학생이름:', name)\n",
    "    print(\"- 학급번호:\", school_ID)\n",
    "    print(\"- 전화번호:\", phoneNumber)"
   ]
  },
  {
   "cell_type": "code",
   "execution_count": 5,
   "id": "ccf52d33",
   "metadata": {},
   "outputs": [
    {
     "name": "stdout",
     "output_type": "stream",
     "text": [
      "-----------------------\n",
      "- 학생이름: 현아\n",
      "- 학급번호: 01\n",
      "- 전화번호: 01-235-6789\n",
      "-----------------------\n",
      "- 학생이름: 진수\n",
      "- 학급번호: 02\n",
      "- 전화번호: 01-987-6543\n"
     ]
    }
   ],
   "source": [
    "my_student_info(\"현아\",\"01\",\"01-235-6789\")\n",
    "my_student_info('진수','02', '01-987-6543')"
   ]
  },
  {
   "cell_type": "code",
   "execution_count": 6,
   "id": "fdad43f6",
   "metadata": {},
   "outputs": [],
   "source": [
    "def my_student_info(name, school_ID, phoneNumber):\n",
    "    print(\"-----------------------\")\n",
    "    print('* 학생이름:', name)\n",
    "    print(\"* 학급번호:\", school_ID)\n",
    "    print(\"* 전화번호:\", phoneNumber)"
   ]
  },
  {
   "cell_type": "code",
   "execution_count": 7,
   "id": "e32c047a",
   "metadata": {},
   "outputs": [
    {
     "name": "stdout",
     "output_type": "stream",
     "text": [
      "-----------------------\n",
      "* 학생이름: 현아\n",
      "* 학급번호: 01\n",
      "* 전화번호: 01-235-6789\n",
      "-----------------------\n",
      "* 학생이름: 진수\n",
      "* 학급번호: 02\n",
      "* 전화번호: 01-987-6543\n"
     ]
    }
   ],
   "source": [
    "my_student_info(\"현아\",\"01\",\"01-235-6789\")\n",
    "my_student_info('진수','02', '01-987-6543')"
   ]
  },
  {
   "cell_type": "code",
   "execution_count": 8,
   "id": "1b0e8d79",
   "metadata": {},
   "outputs": [],
   "source": [
    "def my_calc(x,y):\n",
    "    z=x*y\n",
    "    return z"
   ]
  },
  {
   "cell_type": "code",
   "execution_count": 9,
   "id": "65626321",
   "metadata": {},
   "outputs": [
    {
     "data": {
      "text/plain": [
       "12"
      ]
     },
     "execution_count": 9,
     "metadata": {},
     "output_type": "execute_result"
    }
   ],
   "source": [
    "my_calc(3,4)"
   ]
  },
  {
   "cell_type": "code",
   "execution_count": 10,
   "id": "78802389",
   "metadata": {},
   "outputs": [],
   "source": [
    "def my_student_info_list(student_info):\n",
    "    print(\"-----------------------\")\n",
    "    print('* 학생이름:', student_info[0])\n",
    "    print(\"* 학급번호:\", student_info[1])\n",
    "    print(\"* 전화번호:\", student_info[2])\n",
    "    print(\"-----------------------\")"
   ]
  },
  {
   "cell_type": "code",
   "execution_count": 12,
   "id": "e4302605",
   "metadata": {},
   "outputs": [
    {
     "name": "stdout",
     "output_type": "stream",
     "text": [
      "-----------------------\n",
      "* 학생이름: 현아\n",
      "* 학급번호: 01\n",
      "* 전화번호: 01-235-6789\n",
      "-----------------------\n"
     ]
    }
   ],
   "source": [
    "student1_info=[\"현아\",\"01\",\"01-235-6789\"]\n",
    "my_student_info_list(student1_info)"
   ]
  },
  {
   "cell_type": "code",
   "execution_count": 13,
   "id": "d741cb6b",
   "metadata": {},
   "outputs": [
    {
     "name": "stdout",
     "output_type": "stream",
     "text": [
      "-----------------------\n",
      "* 학생이름: 진수\n",
      "* 학급번호: 02\n",
      "* 전화번호: 01-987-6543\n",
      "-----------------------\n"
     ]
    }
   ],
   "source": [
    "my_student_info_list(['진수','02', '01-987-6543'])"
   ]
  },
  {
   "cell_type": "code",
   "execution_count": 24,
   "id": "9eaa9219",
   "metadata": {},
   "outputs": [],
   "source": [
    "a=5\n",
    "\n",
    "def func1():\n",
    "    a=1\n",
    "    print(\"[func1] 지역 변수 a=\", a)\n",
    "    \n",
    "def func2():\n",
    "    a=2\n",
    "    print(\"[func2] 지역 변수 a=\", a)\n",
    "\n",
    "def func3():\n",
    "    print(\"[func3] 전역 변수 a=\", a)\n",
    "\n",
    "def func4():\n",
    "    global a\n",
    "    a = 4\n",
    "    print(\"[func4] 전역 변수 a=\", a)\n"
   ]
  },
  {
   "cell_type": "code",
   "execution_count": 25,
   "id": "875c56da",
   "metadata": {},
   "outputs": [
    {
     "name": "stdout",
     "output_type": "stream",
     "text": [
      "[func1] 지역 변수 a= 1\n",
      "[func2] 지역 변수 a= 2\n",
      "전역변수 a= 5\n",
      "[func3] 전역 변수 a= 5\n",
      "[func4] 전역 변수 a= 4\n",
      "[func3] 전역 변수 a= 4\n"
     ]
    }
   ],
   "source": [
    "func1()\n",
    "func2()\n",
    "print('전역변수 a=', a)\n",
    "func3()\n",
    "func4()\n",
    "func3()"
   ]
  },
  {
   "cell_type": "code",
   "execution_count": 26,
   "id": "f8578097",
   "metadata": {},
   "outputs": [
    {
     "data": {
      "text/plain": [
       "9"
      ]
     },
     "execution_count": 26,
     "metadata": {},
     "output_type": "execute_result"
    }
   ],
   "source": [
    "(lambda x : x**2)(3)"
   ]
  },
  {
   "cell_type": "code",
   "execution_count": 28,
   "id": "6d488e73",
   "metadata": {},
   "outputs": [
    {
     "data": {
      "text/plain": [
       "25"
      ]
     },
     "execution_count": 28,
     "metadata": {},
     "output_type": "execute_result"
    }
   ],
   "source": [
    "mySquare = lambda x : x**2\n",
    "mySquare(3)\n",
    "mySquare(5)"
   ]
  },
  {
   "cell_type": "code",
   "execution_count": 30,
   "id": "10da96f8",
   "metadata": {},
   "outputs": [
    {
     "data": {
      "text/plain": [
       "11"
      ]
     },
     "execution_count": 30,
     "metadata": {},
     "output_type": "execute_result"
    }
   ],
   "source": [
    "mySimpleFunc = lambda x,y,z : 2*x+3*y+z\n",
    "mySimpleFunc(1,2,3)"
   ]
  },
  {
   "cell_type": "code",
   "execution_count": 35,
   "id": "8e307020",
   "metadata": {},
   "outputs": [
    {
     "data": {
      "text/plain": [
       "[0, 3, -1]"
      ]
     },
     "execution_count": 35,
     "metadata": {},
     "output_type": "execute_result"
    }
   ],
   "source": [
    "[int(0.123), int(3.5123456), int(-1.312367)]"
   ]
  },
  {
   "cell_type": "code",
   "execution_count": 36,
   "id": "3c3a23ba",
   "metadata": {},
   "outputs": [
    {
     "data": {
      "text/plain": [
       "[1234, 5678, -9012]"
      ]
     },
     "execution_count": 36,
     "metadata": {},
     "output_type": "execute_result"
    }
   ],
   "source": [
    "[int('1234'), int('5678'), int('-9012')]"
   ]
  },
  {
   "cell_type": "code",
   "execution_count": 37,
   "id": "83e3c6aa",
   "metadata": {},
   "outputs": [
    {
     "data": {
      "text/plain": [
       "[0.0, 123.0, -567.0]"
      ]
     },
     "execution_count": 37,
     "metadata": {},
     "output_type": "execute_result"
    }
   ],
   "source": [
    "[float(0), float(123), float(-567)]"
   ]
  },
  {
   "cell_type": "code",
   "execution_count": 38,
   "id": "50f8ecdb",
   "metadata": {
    "scrolled": true
   },
   "outputs": [
    {
     "data": {
      "text/plain": [
       "[10.0, 0.123, -567.89]"
      ]
     },
     "execution_count": 38,
     "metadata": {},
     "output_type": "execute_result"
    }
   ],
   "source": [
    "[float('10'), float('0.123'), float('-567.89')]"
   ]
  },
  {
   "cell_type": "code",
   "execution_count": 39,
   "id": "efcef78b",
   "metadata": {
    "scrolled": true
   },
   "outputs": [
    {
     "data": {
      "text/plain": [
       "['123', '45678', '-987']"
      ]
     },
     "execution_count": 39,
     "metadata": {},
     "output_type": "execute_result"
    }
   ],
   "source": [
    "[str(123), str(45678), str(-987)]"
   ]
  },
  {
   "cell_type": "code",
   "execution_count": 40,
   "id": "4b3c562b",
   "metadata": {
    "scrolled": true
   },
   "outputs": [
    {
     "data": {
      "text/plain": [
       "['0.123', '345.678', '-5.987']"
      ]
     },
     "execution_count": 40,
     "metadata": {},
     "output_type": "execute_result"
    }
   ],
   "source": [
    "[str(0.123), str(345.678), str(-5.987)]"
   ]
  },
  {
   "cell_type": "code",
   "execution_count": 41,
   "id": "45a56fe9",
   "metadata": {},
   "outputs": [],
   "source": [
    "list_data=['abc', 1, 2, 'def']\n",
    "tuple_data=('abc',1,2,'def')\n",
    "set_data={'abc',1,2,'def'}"
   ]
  },
  {
   "cell_type": "code",
   "execution_count": 42,
   "id": "d8f96c53",
   "metadata": {},
   "outputs": [
    {
     "data": {
      "text/plain": [
       "[list, tuple, set]"
      ]
     },
     "execution_count": 42,
     "metadata": {},
     "output_type": "execute_result"
    }
   ],
   "source": [
    "[type(list_data), type(tuple_data), type(set_data)]"
   ]
  },
  {
   "cell_type": "code",
   "execution_count": 43,
   "id": "410a8e2e",
   "metadata": {},
   "outputs": [
    {
     "name": "stdout",
     "output_type": "stream",
     "text": [
      "리스트로 변환: ['abc', 1, 2, 'def'] ['def', 1, 'abc', 2]\n",
      "튜플로 변환: ('abc', 1, 2, 'def') ('def', 1, 'abc', 2)\n",
      "세트로 변환 {'def', 1, 'abc', 2} {'def', 1, 'abc', 2}\n"
     ]
    }
   ],
   "source": [
    "print('리스트로 변환:', list(tuple_data), list(set_data))\n",
    "print('튜플로 변환:', tuple(list_data), tuple(set_data))\n",
    "print('세트로 변환', set(list_data), set(tuple_data))"
   ]
  },
  {
   "cell_type": "code",
   "execution_count": 46,
   "id": "9885cf73",
   "metadata": {},
   "outputs": [
    {
     "name": "stdout",
     "output_type": "stream",
     "text": [
      "False True True True True\n"
     ]
    }
   ],
   "source": [
    "print(bool(0), bool(1), bool(-10), bool(5.12), bool(-3.26))"
   ]
  },
  {
   "cell_type": "code",
   "execution_count": 47,
   "id": "4295debc",
   "metadata": {},
   "outputs": [
    {
     "name": "stdout",
     "output_type": "stream",
     "text": [
      "True True False False\n"
     ]
    }
   ],
   "source": [
    "print(bool('a'), bool(' '), bool(''), bool(None))"
   ]
  },
  {
   "cell_type": "code",
   "execution_count": 48,
   "id": "03546571",
   "metadata": {},
   "outputs": [
    {
     "data": {
      "text/plain": [
       "False"
      ]
     },
     "execution_count": 48,
     "metadata": {},
     "output_type": "execute_result"
    }
   ],
   "source": [
    "myFriends=[]\n",
    "bool(myFriends)"
   ]
  },
  {
   "cell_type": "code",
   "execution_count": 49,
   "id": "bc02479e",
   "metadata": {},
   "outputs": [
    {
     "data": {
      "text/plain": [
       "True"
      ]
     },
     "execution_count": 49,
     "metadata": {},
     "output_type": "execute_result"
    }
   ],
   "source": [
    "myFriends=['James', 'Rober']\n",
    "bool(myFriends)"
   ]
  },
  {
   "cell_type": "code",
   "execution_count": 50,
   "id": "f0ec7715",
   "metadata": {},
   "outputs": [
    {
     "data": {
      "text/plain": [
       "False"
      ]
     },
     "execution_count": 50,
     "metadata": {},
     "output_type": "execute_result"
    }
   ],
   "source": [
    "myNum=()\n",
    "bool(myNum)"
   ]
  },
  {
   "cell_type": "code",
   "execution_count": 51,
   "id": "694f65ba",
   "metadata": {},
   "outputs": [
    {
     "data": {
      "text/plain": [
       "True"
      ]
     },
     "execution_count": 51,
     "metadata": {},
     "output_type": "execute_result"
    }
   ],
   "source": [
    "myNum=(1,2,3)\n",
    "bool(myNum)"
   ]
  },
  {
   "cell_type": "code",
   "execution_count": 52,
   "id": "bbde11d8",
   "metadata": {},
   "outputs": [
    {
     "data": {
      "text/plain": [
       "False"
      ]
     },
     "execution_count": 52,
     "metadata": {},
     "output_type": "execute_result"
    }
   ],
   "source": [
    "mySetA={}\n",
    "bool(mySetA)"
   ]
  },
  {
   "cell_type": "code",
   "execution_count": 53,
   "id": "3de46ace",
   "metadata": {},
   "outputs": [
    {
     "data": {
      "text/plain": [
       "True"
      ]
     },
     "execution_count": 53,
     "metadata": {},
     "output_type": "execute_result"
    }
   ],
   "source": [
    "mySetA={10,20,30}\n",
    "bool(mySetA)"
   ]
  },
  {
   "cell_type": "code",
   "execution_count": 54,
   "id": "f6dc0cdf",
   "metadata": {},
   "outputs": [],
   "source": [
    "def print_name(name):\n",
    "    if bool(name):\n",
    "        print('입력된 이름:', name)\n",
    "    else:\n",
    "        print('입력된 이름이 없습니다.')"
   ]
  },
  {
   "cell_type": "code",
   "execution_count": 55,
   "id": "df5084e1",
   "metadata": {},
   "outputs": [
    {
     "name": "stdout",
     "output_type": "stream",
     "text": [
      "입력된 이름: James\n"
     ]
    }
   ],
   "source": [
    "print_name('James')"
   ]
  },
  {
   "cell_type": "code",
   "execution_count": 56,
   "id": "a164d882",
   "metadata": {},
   "outputs": [
    {
     "name": "stdout",
     "output_type": "stream",
     "text": [
      "입력된 이름이 없습니다.\n"
     ]
    }
   ],
   "source": [
    "print_name('')"
   ]
  },
  {
   "cell_type": "code",
   "execution_count": 58,
   "id": "294e3ece",
   "metadata": {},
   "outputs": [
    {
     "data": {
      "text/plain": [
       "[0, 99.5]"
      ]
     },
     "execution_count": 58,
     "metadata": {},
     "output_type": "execute_result"
    }
   ],
   "source": [
    "myNum=[10,5,12,0,3.5,99.5,42]\n",
    "[min(myNum), max(myNum)]"
   ]
  },
  {
   "cell_type": "code",
   "execution_count": 62,
   "id": "cfdf2cbb",
   "metadata": {},
   "outputs": [
    {
     "data": {
      "text/plain": [
       "['A', 'y']"
      ]
     },
     "execution_count": 62,
     "metadata": {},
     "output_type": "execute_result"
    }
   ],
   "source": [
    "myStr='ZxyaAbBc'\n",
    "[min(myStr), max(myStr)]"
   ]
  },
  {
   "cell_type": "code",
   "execution_count": 63,
   "id": "857c9b3a",
   "metadata": {},
   "outputs": [
    {
     "data": {
      "text/plain": [
       "[0, 99.5]"
      ]
     },
     "execution_count": 63,
     "metadata": {},
     "output_type": "execute_result"
    }
   ],
   "source": [
    "myNum=(10,5,12,0,3.5,99.5,42)\n",
    "[min(myNum), max(myNum)]"
   ]
  },
  {
   "cell_type": "code",
   "execution_count": 67,
   "id": "5c41a860",
   "metadata": {},
   "outputs": [
    {
     "data": {
      "text/plain": [
       "['Abc', 'efg']"
      ]
     },
     "execution_count": 67,
     "metadata": {},
     "output_type": "execute_result"
    }
   ],
   "source": [
    "myNum={'Abc','abc','bcd','efg'}\n",
    "[min(myNum), max(myNum)]"
   ]
  },
  {
   "cell_type": "code",
   "execution_count": 74,
   "id": "70fccfa7",
   "metadata": {},
   "outputs": [
    {
     "name": "stdout",
     "output_type": "stream",
     "text": [
      "[10, 10] [2.45, 2.45]\n"
     ]
    }
   ],
   "source": [
    "print([abs(10), abs(-10)], [abs(2.45), abs(-2.45)])"
   ]
  },
  {
   "cell_type": "code",
   "execution_count": 75,
   "id": "9105bdd1",
   "metadata": {},
   "outputs": [
    {
     "data": {
      "text/plain": [
       "55"
      ]
     },
     "execution_count": 75,
     "metadata": {},
     "output_type": "execute_result"
    }
   ],
   "source": [
    "sumList=[1,2,3,4,5,6,7,8,9,10]\n",
    "sum(sumList)"
   ]
  },
  {
   "cell_type": "code",
   "execution_count": 80,
   "id": "3143261d",
   "metadata": {},
   "outputs": [
    {
     "name": "stdout",
     "output_type": "stream",
     "text": [
      "5\n",
      "8\n",
      "5\n",
      "4\n",
      "3\n"
     ]
    }
   ],
   "source": [
    "print(len('ab,cd'))\n",
    "print(len([1,2,3,4,5,6,7,8]))\n",
    "print(len((1,2,3,4,5)))\n",
    "print(len({'a','b','c','d'}))\n",
    "print(len({1:'Thomas', 2:'Edward', 3:'Henry'}))"
   ]
  },
  {
   "cell_type": "code",
   "execution_count": 82,
   "id": "75e0934b",
   "metadata": {},
   "outputs": [
    {
     "name": "stdout",
     "output_type": "stream",
     "text": [
      "총점:350, 평균:87.5\n"
     ]
    }
   ],
   "source": [
    "scores=[90,80,95,85]\n",
    "\n",
    "score_sum=0\n",
    "subject_num=0\n",
    "for score in scores:\n",
    "    score_sum = score_sum+score\n",
    "    subject_num=subject_num +1\n",
    "    \n",
    "average=score_sum/subject_num\n",
    "\n",
    "print('총점:{0}, 평균:{1}'.format(score_sum, average))"
   ]
  },
  {
   "cell_type": "code",
   "execution_count": 84,
   "id": "8e99c67a",
   "metadata": {},
   "outputs": [
    {
     "name": "stdout",
     "output_type": "stream",
     "text": [
      "총점:350, 평균:87.5\n",
      "최하 점수 : 80, 최고 점수: 95\n"
     ]
    }
   ],
   "source": [
    "scores=[90,80,95,85]\n",
    "print('총점:{0}, 평균:{1}'.format(sum(scores), sum(scores)/len(scores)))\n",
    "print('최하 점수 : {0}, 최고 점수: {1}'.format(min(scores), max(scores)))"
   ]
  },
  {
   "cell_type": "code",
   "execution_count": null,
   "id": "7877a4c9",
   "metadata": {},
   "outputs": [],
   "source": []
  }
 ],
 "metadata": {
  "kernelspec": {
   "display_name": "Python 3",
   "language": "python",
   "name": "python3"
  },
  "language_info": {
   "codemirror_mode": {
    "name": "ipython",
    "version": 3
   },
   "file_extension": ".py",
   "mimetype": "text/x-python",
   "name": "python",
   "nbconvert_exporter": "python",
   "pygments_lexer": "ipython3",
   "version": "3.8.8"
  }
 },
 "nbformat": 4,
 "nbformat_minor": 5
}
