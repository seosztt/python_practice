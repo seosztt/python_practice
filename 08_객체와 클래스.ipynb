{
 "cells": [
  {
   "cell_type": "code",
   "execution_count": 2,
   "id": "12976320",
   "metadata": {},
   "outputs": [],
   "source": [
    "class Bicycle(): # 클래스 선언\n",
    "    pass"
   ]
  },
  {
   "cell_type": "code",
   "execution_count": 3,
   "id": "f40b03a1",
   "metadata": {},
   "outputs": [],
   "source": [
    "my_bicycle=Bicycle()"
   ]
  },
  {
   "cell_type": "code",
   "execution_count": 4,
   "id": "6535aa36",
   "metadata": {},
   "outputs": [
    {
     "data": {
      "text/plain": [
       "<__main__.Bicycle at 0x2990dde5700>"
      ]
     },
     "execution_count": 4,
     "metadata": {},
     "output_type": "execute_result"
    }
   ],
   "source": [
    "my_bicycle"
   ]
  },
  {
   "cell_type": "code",
   "execution_count": 5,
   "id": "3967093e",
   "metadata": {},
   "outputs": [],
   "source": [
    "my_bicycle.wheel_size=26\n",
    "my_bicycle.color='black'"
   ]
  },
  {
   "cell_type": "code",
   "execution_count": 6,
   "id": "c77d83e2",
   "metadata": {},
   "outputs": [
    {
     "name": "stdout",
     "output_type": "stream",
     "text": [
      "바퀴 크기: 26\n",
      "색상: black\n"
     ]
    }
   ],
   "source": [
    "print('바퀴 크기:', my_bicycle.wheel_size)\n",
    "print('색상:', my_bicycle.color)"
   ]
  },
  {
   "cell_type": "code",
   "execution_count": 8,
   "id": "2741edb9",
   "metadata": {},
   "outputs": [],
   "source": [
    "class Bicycle():\n",
    "    \n",
    "    def move(self, speed):\n",
    "        print('자전거: 시속 {0}킬로미터로 전진'.format(speed))\n",
    "    def turn(self, direction):\n",
    "        print('자전거:{0}회전'.format(direction))\n",
    "    def stop(self):\n",
    "        print('자전거({0},{1}):정지'.format(self.wheel_size, self.color))"
   ]
  },
  {
   "cell_type": "code",
   "execution_count": 9,
   "id": "0451ceac",
   "metadata": {},
   "outputs": [
    {
     "name": "stdout",
     "output_type": "stream",
     "text": [
      "자전거: 시속 30킬로미터로 전진\n",
      "자전거:좌회전\n",
      "자전거(26,black):정지\n"
     ]
    }
   ],
   "source": [
    "my_bicycle=Bicycle()\n",
    "\n",
    "my_bicycle.wheel_size=26\n",
    "my_bicycle.color='black'\n",
    "\n",
    "my_bicycle.move(30)\n",
    "my_bicycle.turn('좌')\n",
    "my_bicycle.stop()"
   ]
  },
  {
   "cell_type": "code",
   "execution_count": null,
   "id": "b8a3e525",
   "metadata": {},
   "outputs": [],
   "source": []
  }
 ],
 "metadata": {
  "kernelspec": {
   "display_name": "Python 3",
   "language": "python",
   "name": "python3"
  },
  "language_info": {
   "codemirror_mode": {
    "name": "ipython",
    "version": 3
   },
   "file_extension": ".py",
   "mimetype": "text/x-python",
   "name": "python",
   "nbconvert_exporter": "python",
   "pygments_lexer": "ipython3",
   "version": "3.8.8"
  }
 },
 "nbformat": 4,
 "nbformat_minor": 5
}
