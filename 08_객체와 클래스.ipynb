{
 "cells": [
  {
   "cell_type": "code",
   "execution_count": 2,
   "id": "12976320",
   "metadata": {},
   "outputs": [],
   "source": [
    "class Bicycle(): # 클래스 선언\n",
    "    pass"
   ]
  },
  {
   "cell_type": "code",
   "execution_count": 3,
   "id": "f40b03a1",
   "metadata": {},
   "outputs": [],
   "source": [
    "my_bicycle=Bicycle()"
   ]
  },
  {
   "cell_type": "code",
   "execution_count": 4,
   "id": "6535aa36",
   "metadata": {
    "scrolled": false
   },
   "outputs": [
    {
     "data": {
      "text/plain": [
       "<__main__.Bicycle at 0x2869a7c5190>"
      ]
     },
     "execution_count": 4,
     "metadata": {},
     "output_type": "execute_result"
    }
   ],
   "source": [
    "my_bicycle"
   ]
  },
  {
   "cell_type": "code",
   "execution_count": 5,
   "id": "3967093e",
   "metadata": {},
   "outputs": [],
   "source": [
    "my_bicycle.wheel_size=26\n",
    "my_bicycle.color='black'"
   ]
  },
  {
   "cell_type": "code",
   "execution_count": 6,
   "id": "c77d83e2",
   "metadata": {},
   "outputs": [
    {
     "name": "stdout",
     "output_type": "stream",
     "text": [
      "바퀴 크기: 26\n",
      "색상: black\n"
     ]
    }
   ],
   "source": [
    "print('바퀴 크기:', my_bicycle.wheel_size)\n",
    "print('색상:', my_bicycle.color)"
   ]
  },
  {
   "cell_type": "code",
   "execution_count": 7,
   "id": "2741edb9",
   "metadata": {},
   "outputs": [],
   "source": [
    "class Bicycle():\n",
    "    \n",
    "    def move(self, speed):\n",
    "        print('자전거: 시속 {0}킬로미터로 전진'.format(speed))\n",
    "    def turn(self, direction):\n",
    "        print('자전거:{0}회전'.format(direction))\n",
    "    def stop(self):\n",
    "        print('자전거({0},{1}):정지'.format(self.wheel_size, self.color))"
   ]
  },
  {
   "cell_type": "code",
   "execution_count": 8,
   "id": "0451ceac",
   "metadata": {},
   "outputs": [
    {
     "name": "stdout",
     "output_type": "stream",
     "text": [
      "자전거: 시속 30킬로미터로 전진\n",
      "자전거:좌회전\n",
      "자전거(26,black):정지\n"
     ]
    }
   ],
   "source": [
    "my_bicycle=Bicycle()\n",
    "\n",
    "my_bicycle.wheel_size=26\n",
    "my_bicycle.color='black'\n",
    "\n",
    "my_bicycle.move(30)\n",
    "my_bicycle.turn('좌')\n",
    "my_bicycle.stop()"
   ]
  },
  {
   "cell_type": "code",
   "execution_count": 9,
   "id": "b8a3e525",
   "metadata": {},
   "outputs": [
    {
     "name": "stdout",
     "output_type": "stream",
     "text": [
      "자전거: 시속 20킬로미터로 전진\n",
      "자전거:좌회전\n",
      "자전거(27,red):정지\n"
     ]
    }
   ],
   "source": [
    "bicycle1=Bicycle()\n",
    "\n",
    "bicycle1.wheel_size=27\n",
    "bicycle1.color='red'\n",
    "\n",
    "bicycle1.move(20)\n",
    "bicycle1.turn('좌')\n",
    "bicycle1.stop()"
   ]
  },
  {
   "cell_type": "code",
   "execution_count": 10,
   "id": "0a22ba19",
   "metadata": {},
   "outputs": [
    {
     "name": "stdout",
     "output_type": "stream",
     "text": [
      "자전거: 시속 15킬로미터로 전진\n",
      "자전거:우회전\n",
      "자전거(24,blue):정지\n"
     ]
    }
   ],
   "source": [
    "bicycle2=Bicycle()\n",
    "\n",
    "bicycle2.wheel_size=24\n",
    "bicycle2.color='blue'\n",
    "\n",
    "bicycle2.move(15)\n",
    "bicycle2.turn('우')\n",
    "bicycle2.stop()"
   ]
  },
  {
   "cell_type": "code",
   "execution_count": 49,
   "id": "f37973f7",
   "metadata": {},
   "outputs": [],
   "source": [
    "class Bicycle():\n",
    "    \n",
    "    def __init__(self, wheel_size, color):\n",
    "        self.wheel_size=wheel_size\n",
    "        self.color=color\n",
    "    def move(self, speed):\n",
    "        print('자전거: 시속 {0}킬로미터로 전진'.format(speed))\n",
    "    def turn(self, direction):\n",
    "        print('자전거:{0}회전'.format(direction))\n",
    "    def stop(self):\n",
    "        print('자전거({0},{1}):정지'.format(self.wheel_size, self.color))"
   ]
  },
  {
   "cell_type": "code",
   "execution_count": 3,
   "id": "da24e1f2",
   "metadata": {},
   "outputs": [
    {
     "name": "stdout",
     "output_type": "stream",
     "text": [
      "자전거: 시속 30킬로미터로 전진\n",
      "자전거:좌회전\n",
      "자전거(26,black):정지\n"
     ]
    }
   ],
   "source": [
    "my_bicycle=Bicycle(26,'black')\n",
    "\n",
    "my_bicycle.move(30)\n",
    "my_bicycle.turn('좌')\n",
    "my_bicycle.stop()"
   ]
  },
  {
   "cell_type": "code",
   "execution_count": 17,
   "id": "a967135c",
   "metadata": {},
   "outputs": [],
   "source": [
    "class Car():\n",
    "    instance_count=0\n",
    "    \n",
    "    def __init__(self, size, color):\n",
    "        self.size=size\n",
    "        self.color=color\n",
    "        Car.instance_count=Car.instance_count +1\n",
    "        print('자동차 객체의 수:{0}'.format(Car.instance_count))\n",
    "        \n",
    "    def move(self):\n",
    "        print('자동차{0}&{1}가 움직입니다.'.format(self.size, self.color))"
   ]
  },
  {
   "cell_type": "code",
   "execution_count": 18,
   "id": "8ef7f25e",
   "metadata": {},
   "outputs": [
    {
     "name": "stdout",
     "output_type": "stream",
     "text": [
      "자동차 객체의 수:1\n",
      "자동차 객체의 수:2\n"
     ]
    }
   ],
   "source": [
    "car1=Car('small','white')\n",
    "car2=Car('big','black')"
   ]
  },
  {
   "cell_type": "code",
   "execution_count": 19,
   "id": "a656ae27",
   "metadata": {},
   "outputs": [
    {
     "name": "stdout",
     "output_type": "stream",
     "text": [
      "Car 클래스의 총 인스턴스 개수:2\n"
     ]
    }
   ],
   "source": [
    "print('Car 클래스의 총 인스턴스 개수:{}'.format(Car.instance_count))"
   ]
  },
  {
   "cell_type": "code",
   "execution_count": 20,
   "id": "3cebf409",
   "metadata": {},
   "outputs": [
    {
     "name": "stdout",
     "output_type": "stream",
     "text": [
      "Car 클래스의 총 인스턴스 개수:2\n",
      "Car 클래스의 총 인스턴스 개수:2\n"
     ]
    }
   ],
   "source": [
    "print('Car 클래스의 총 인스턴스 개수:{}'.format(car1.instance_count))\n",
    "print('Car 클래스의 총 인스턴스 개수:{}'.format(car2.instance_count))"
   ]
  },
  {
   "cell_type": "code",
   "execution_count": 22,
   "id": "9950f366",
   "metadata": {},
   "outputs": [
    {
     "name": "stdout",
     "output_type": "stream",
     "text": [
      "자동차small&white가 움직입니다.\n",
      "자동차big&black가 움직입니다.\n"
     ]
    }
   ],
   "source": [
    "car1.move()\n",
    "car2.move()"
   ]
  },
  {
   "cell_type": "code",
   "execution_count": 23,
   "id": "0fac9a29",
   "metadata": {},
   "outputs": [],
   "source": [
    "class Car2():\n",
    "    count=0\n",
    "    \n",
    "    def __init__(self, size, num):\n",
    "        self.size=size\n",
    "        self.count=num\n",
    "        Car2.count=Car2.count+1\n",
    "        Car.instance_count=Car.instance_count +1\n",
    "        print('자동차 객체의 수: Car2.count={0}'.format(Car2.count))\n",
    "        print('인스턴스 변수 초기화: self.count={0}'.format(self.count))\n",
    "        \n",
    "    def move(self):\n",
    "        print('자동차{0}&{1}가 움직입니다.'.format(self.size, self.count))"
   ]
  },
  {
   "cell_type": "code",
   "execution_count": 24,
   "id": "46d26f08",
   "metadata": {},
   "outputs": [
    {
     "name": "stdout",
     "output_type": "stream",
     "text": [
      "자동차 객체의 수: Car2.count=1\n",
      "인스턴스 변수 초기화: self.count=20\n",
      "자동차 객체의 수: Car2.count=2\n",
      "인스턴스 변수 초기화: self.count=30\n"
     ]
    }
   ],
   "source": [
    "car1=Car2('big',20)\n",
    "car2=Car2('small',30)"
   ]
  },
  {
   "cell_type": "code",
   "execution_count": 32,
   "id": "45f2001c",
   "metadata": {},
   "outputs": [],
   "source": [
    "class Car():\n",
    "    instance_count=0\n",
    "    \n",
    "    def __init__(self, size, color):\n",
    "        self.size=size\n",
    "        self.color=color\n",
    "        Car.instance_count=Car.instance_count +1\n",
    "        \n",
    "    def move(self, speed):\n",
    "        self.speed=speed\n",
    "        print('자동차{0}&{1}가 움직입니다.'.format(self.size, self.color), end='')\n",
    "        print('시속 {0}킬로미터로 전진'.format(self.speed))\n",
    "        \n",
    "    def auto_cruise(self):\n",
    "        self.move(self.speed)\n",
    "        \n",
    "    # 정적 메서드\n",
    "    @staticmethod\n",
    "    def check_type(model_code):\n",
    "        if(model_code>=20):\n",
    "            print('이 자동차는 전기차입니다.')\n",
    "        elif(10<=model_code<20):\n",
    "            print('이 자동차는 가솔린차입니다.')\n",
    "        else:\n",
    "            print('이 자동차는 디젤차입니다.')\n",
    "            \n",
    "    # 클래스 메서드\n",
    "    @classmethod\n",
    "    def count_instance(cls):\n",
    "        print('자동차 객체의 개수: {0}'.format(cls.instance_count))\n",
    "        "
   ]
  },
  {
   "cell_type": "code",
   "execution_count": 26,
   "id": "75d8bfd9",
   "metadata": {},
   "outputs": [
    {
     "name": "stdout",
     "output_type": "stream",
     "text": [
      "자동차 객체의 수:1\n",
      "자동차 객체의 수:2\n",
      "자동차small&red가 움직입니다.시속 80킬로미터로 전진\n",
      "자동차big&green가 움직입니다.시속 100킬로미터로 전진\n",
      "자동차small&red가 움직입니다.시속 80킬로미터로 전진\n",
      "자동차big&green가 움직입니다.시속 100킬로미터로 전진\n"
     ]
    }
   ],
   "source": [
    "car1=Car('small','red')\n",
    "car2=Car('big','green')\n",
    "\n",
    "car1.move(80)\n",
    "car2.move(100)\n",
    "\n",
    "car1.auto_cruise()\n",
    "car2.auto_cruise()"
   ]
  },
  {
   "cell_type": "code",
   "execution_count": 28,
   "id": "15bab63e",
   "metadata": {},
   "outputs": [
    {
     "name": "stdout",
     "output_type": "stream",
     "text": [
      "이 자동차는 전기차입니다.\n",
      "이 자동차는 디젤차입니다.\n"
     ]
    }
   ],
   "source": [
    "Car.check_type(25)\n",
    "Car.check_type(2)"
   ]
  },
  {
   "cell_type": "code",
   "execution_count": 33,
   "id": "0c16dc6c",
   "metadata": {},
   "outputs": [
    {
     "name": "stdout",
     "output_type": "stream",
     "text": [
      "자동차 객체의 개수: 0\n",
      "자동차 객체의 개수: 1\n",
      "자동차 객체의 개수: 2\n"
     ]
    }
   ],
   "source": [
    "Car.count_instance()\n",
    "\n",
    "car1=Car('small','red')\n",
    "Car.count_instance()\n",
    "\n",
    "car2=Car('big','green')\n",
    "Car.count_instance()"
   ]
  },
  {
   "cell_type": "code",
   "execution_count": 34,
   "id": "76f8d87f",
   "metadata": {},
   "outputs": [],
   "source": [
    "# 객체와 클래스를 사용하는 이유\n",
    "##로봇 한 대를 구현\n",
    "robot_name='R1'\n",
    "robot_pos=0\n",
    "\n",
    "def robot_move():\n",
    "    global robot_pos\n",
    "    robot_pos =robot_pos +1\n",
    "    print('{0} position: {1}'.format(robot_name, robot_pos))"
   ]
  },
  {
   "cell_type": "code",
   "execution_count": 35,
   "id": "c4dbb04f",
   "metadata": {},
   "outputs": [
    {
     "name": "stdout",
     "output_type": "stream",
     "text": [
      "R1 position: 1\n"
     ]
    }
   ],
   "source": [
    "robot_move()"
   ]
  },
  {
   "cell_type": "code",
   "execution_count": 38,
   "id": "54f323e6",
   "metadata": {},
   "outputs": [],
   "source": [
    "##로봇 두 대를 구현\n",
    "robot1_name='R1'\n",
    "robot1_pos=0\n",
    "\n",
    "def robot1_move():\n",
    "    global robot1_pos\n",
    "    robot1_pos =robot1_pos +1\n",
    "    print('{0} position: {1}'.format(robot1_name, robot1_pos))\n",
    "    \n",
    "robot2_name='R2'\n",
    "robot2_pos=0\n",
    "\n",
    "def robot2_move():\n",
    "    global robot2_pos\n",
    "    robot2_pos =robot2_pos +1\n",
    "    print('{0} position: {1}'.format(robot2_name, robot2_pos))"
   ]
  },
  {
   "cell_type": "code",
   "execution_count": 39,
   "id": "c758b0ba",
   "metadata": {},
   "outputs": [
    {
     "name": "stdout",
     "output_type": "stream",
     "text": [
      "R1 position: 1\n",
      "R2 position: 1\n"
     ]
    }
   ],
   "source": [
    "robot1_move()\n",
    "robot2_move()"
   ]
  },
  {
   "cell_type": "code",
   "execution_count": 40,
   "id": "781068e4",
   "metadata": {},
   "outputs": [],
   "source": [
    "# 로봇 코드를 클래스와 객체를 이용해 구현\n",
    "class Robot():\n",
    "    def __init__(self, name, pos):\n",
    "        self.name=name\n",
    "        self.pos=pos\n",
    "        \n",
    "    def move(self):\n",
    "        self.pos=self.pos+1\n",
    "        print('{0} position: {1}'.format(self.name, self.pos))"
   ]
  },
  {
   "cell_type": "code",
   "execution_count": 41,
   "id": "29cc5d83",
   "metadata": {},
   "outputs": [],
   "source": [
    "robot1=Robot('R1',0)\n",
    "robot2=Robot('R2',10)"
   ]
  },
  {
   "cell_type": "code",
   "execution_count": 42,
   "id": "c02ee7a0",
   "metadata": {
    "scrolled": true
   },
   "outputs": [
    {
     "name": "stdout",
     "output_type": "stream",
     "text": [
      "R1 position: 1\n",
      "R2 position: 11\n"
     ]
    }
   ],
   "source": [
    "robot1.move()\n",
    "robot2.move()"
   ]
  },
  {
   "cell_type": "code",
   "execution_count": 43,
   "id": "ab42c6c2",
   "metadata": {},
   "outputs": [
    {
     "name": "stdout",
     "output_type": "stream",
     "text": [
      "R3 position: 31\n",
      "R4 position: 41\n"
     ]
    }
   ],
   "source": [
    "myRobot3=Robot('R3',30)\n",
    "myRobot4=Robot('R4',40)\n",
    "\n",
    "myRobot3.move()\n",
    "myRobot4.move()"
   ]
  },
  {
   "cell_type": "code",
   "execution_count": 44,
   "id": "8e24687d",
   "metadata": {},
   "outputs": [],
   "source": [
    "class Bicycle():\n",
    "    def __init__(self, wheel_size, color):\n",
    "        self.wheel_size=wheel_size\n",
    "        self.color=color\n",
    "\n",
    "    def move(self, speed):\n",
    "        print('자전거: 시속 {0}킬로미터로 전진'.format(speed))\n",
    "\n",
    "    def turn(self, direction):\n",
    "        print('자전거:{0}회전'.format(direction))\n",
    "    \n",
    "    def stop(self):\n",
    "        print('자전거({0},{1}):정지'.format(self.wheel_size, self.color))"
   ]
  },
  {
   "cell_type": "code",
   "execution_count": 45,
   "id": "c2c69d89",
   "metadata": {},
   "outputs": [],
   "source": [
    "class FoldingBicycle(Bicycle):\n",
    "    def __init__(self, wheel_size, color, state):\n",
    "        Bicycle.__init__(self, wheel_size, color) # wheel_size, color 인자 초기화 재사용\n",
    "        # super().__init__(wheel_size, color) # super()도 사용 가능. 인자에서 self를 빼야함.\n",
    "        self.state=state\n",
    "        \n",
    "    def fold(self):\n",
    "        self.state='folding'\n",
    "        print('자전거: 접기, state={0}'.format(self.state))\n",
    "        \n",
    "    def unfold(self):\n",
    "        self.state='unfolding'\n",
    "        print('자전거: 펴기, state={0}'.format(self.state))"
   ]
  },
  {
   "cell_type": "code",
   "execution_count": 47,
   "id": "f1da223e",
   "metadata": {},
   "outputs": [
    {
     "name": "stdout",
     "output_type": "stream",
     "text": [
      "자전거: 시속 20킬로미터로 전진\n",
      "자전거: 접기, state=folding\n",
      "자전거: 펴기, state=unfolding\n"
     ]
    }
   ],
   "source": [
    "folding_bicycle=FoldingBicycle(27, 'white', 'unfolding')\n",
    "\n",
    "folding_bicycle.move(20)\n",
    "folding_bicycle.fold()\n",
    "folding_bicycle.unfold()"
   ]
  }
 ],
 "metadata": {
  "kernelspec": {
   "display_name": "Python 3",
   "language": "python",
   "name": "python3"
  },
  "language_info": {
   "codemirror_mode": {
    "name": "ipython",
    "version": 3
   },
   "file_extension": ".py",
   "mimetype": "text/x-python",
   "name": "python",
   "nbconvert_exporter": "python",
   "pygments_lexer": "ipython3",
   "version": "3.8.8"
  }
 },
 "nbformat": 4,
 "nbformat_minor": 5
}
