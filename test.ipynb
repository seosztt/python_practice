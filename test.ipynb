{
 "cells": [
  {
   "cell_type": "code",
   "execution_count": 34,
   "id": "f8a8b34f",
   "metadata": {
    "scrolled": true
   },
   "outputs": [
    {
     "name": "stdout",
     "output_type": "stream",
     "text": [
      "Hello World!\n",
      "Python\n",
      "짱\n"
     ]
    }
   ],
   "source": [
    "print('Hello World!')\n",
    "print('Python')\n",
    "print('짱')"
   ]
  },
  {
   "cell_type": "code",
   "execution_count": 41,
   "id": "403e6445",
   "metadata": {},
   "outputs": [
    {
     "name": "stdout",
     "output_type": "stream",
     "text": [
      "'Hello World!'\n"
     ]
    }
   ],
   "source": [
    "!echo 'Hello World!'"
   ]
  },
  {
   "cell_type": "code",
   "execution_count": 40,
   "id": "6f113a6c",
   "metadata": {},
   "outputs": [
    {
     "name": "stdout",
     "output_type": "stream",
     "text": [
      " C 드라이브의 볼륨에는 이름이 없습니다.\n",
      " 볼륨 일련 번호: D492-755A\n",
      "\n",
      " C:\\Users\\USER 디렉터리\n",
      "\n",
      "2021-07-14  오후 03:38    <DIR>          .\n",
      "2021-07-14  오후 03:38    <DIR>          ..\n",
      "2021-07-14  오후 03:38    <DIR>          .conda\n",
      "2021-07-13  오후 02:16                25 .condarc\n",
      "2021-07-13  오후 02:16    <DIR>          .continuum\n",
      "2021-07-14  오후 03:17    <DIR>          .ipynb_checkpoints\n",
      "2021-07-13  오후 03:18    <DIR>          .ipython\n",
      "2021-07-13  오후 03:35    <DIR>          .jupyter\n",
      "2021-07-13  오후 03:18    <DIR>          .matplotlib\n",
      "2021-07-14  오후 01:35                45 .python_history\n",
      "2021-07-14  오후 02:29    <DIR>          .spyder-py3\n",
      "2021-01-04  오후 03:37    <DIR>          3D Objects\n",
      "2021-01-04  오후 03:37    <DIR>          Contacts\n",
      "2021-07-13  오후 05:13    <DIR>          Desktop\n",
      "2021-07-09  오후 02:53    <DIR>          Documents\n",
      "2021-07-14  오전 10:44    <DIR>          Downloads\n",
      "2021-04-09  오후 05:22    <DIR>          Favorites\n",
      "2021-07-13  오후 03:33    <DIR>          Jedi\n",
      "2021-01-04  오후 03:37    <DIR>          Links\n",
      "2021-01-04  오후 03:37    <DIR>          Music\n",
      "2021-07-14  오전 08:08    <DIR>          OneDrive\n",
      "2021-04-08  오전 03:26    <DIR>          Pictures\n",
      "2021-01-04  오후 03:37    <DIR>          Saved Games\n",
      "2021-01-04  오후 03:38    <DIR>          Searches\n",
      "2021-07-14  오후 03:38             4,837 test.ipynb\n",
      "2021-07-14  오후 01:45                67 test.py\n",
      "2021-07-14  오후 01:39                21 test.txt\n",
      "2021-07-13  오후 03:39               854 Untitled.ipynb\n",
      "2021-05-22  오후 01:35    <DIR>          Videos\n",
      "               6개 파일               5,849 바이트\n",
      "              23개 디렉터리  355,451,584,512 바이트 남음\n"
     ]
    }
   ],
   "source": [
    "!dir"
   ]
  },
  {
   "cell_type": "code",
   "execution_count": 36,
   "id": "ddcd13ef",
   "metadata": {},
   "outputs": [
    {
     "name": "stdout",
     "output_type": "stream",
     "text": [
      "Hello World!\n",
      "Python\n",
      "짱\n"
     ]
    }
   ],
   "source": [
    "print('Hello World!')\n",
    "print('Python')\n",
    "print('짱')"
   ]
  },
  {
   "cell_type": "markdown",
   "id": "09c47892",
   "metadata": {},
   "source": [
    "## 안녕하세요 파이썬을 배웁니다.\n",
    "\n",
    "1. 첫번째\n",
    "\n",
    "+ 두번째\n",
    "    + 버ㅏㄱㄷㅂ\n",
    "        + 버ㅐㄷ\n",
    "- ㅇ머리"
   ]
  },
  {
   "cell_type": "code",
   "execution_count": 37,
   "id": "523a023c",
   "metadata": {},
   "outputs": [
    {
     "data": {
      "text/plain": [
       "'C:\\\\Users\\\\USER'"
      ]
     },
     "execution_count": 37,
     "metadata": {},
     "output_type": "execute_result"
    }
   ],
   "source": [
    "pwd"
   ]
  },
  {
   "cell_type": "code",
   "execution_count": 38,
   "id": "85efb178",
   "metadata": {
    "scrolled": true
   },
   "outputs": [
    {
     "data": {
      "text/plain": [
       "'C:\\\\Users\\\\USER'"
      ]
     },
     "execution_count": 38,
     "metadata": {},
     "output_type": "execute_result"
    }
   ],
   "source": [
    "%pwd"
   ]
  },
  {
   "cell_type": "code",
   "execution_count": 39,
   "id": "9105726c",
   "metadata": {},
   "outputs": [
    {
     "name": "stdout",
     "output_type": "stream",
     "text": [
      " C 드라이브의 볼륨에는 이름이 없습니다.\n",
      " 볼륨 일련 번호: D492-755A\n",
      "\n",
      " C:\\Users\\USER 디렉터리\n",
      "\n",
      "2021-07-14  오후 03:36    <DIR>          .\n",
      "2021-07-14  오후 03:36    <DIR>          ..\n",
      "2021-07-14  오후 03:36    <DIR>          .conda\n",
      "2021-07-13  오후 02:16                25 .condarc\n",
      "2021-07-13  오후 02:16    <DIR>          .continuum\n",
      "2021-07-14  오후 03:17    <DIR>          .ipynb_checkpoints\n",
      "2021-07-13  오후 03:18    <DIR>          .ipython\n",
      "2021-07-13  오후 03:35    <DIR>          .jupyter\n",
      "2021-07-13  오후 03:18    <DIR>          .matplotlib\n",
      "2021-07-14  오후 01:35                45 .python_history\n",
      "2021-07-14  오후 02:29    <DIR>          .spyder-py3\n",
      "2021-01-04  오후 03:37    <DIR>          3D Objects\n",
      "2021-01-04  오후 03:37    <DIR>          Contacts\n",
      "2021-07-13  오후 05:13    <DIR>          Desktop\n",
      "2021-07-09  오후 02:53    <DIR>          Documents\n",
      "2021-07-14  오전 10:44    <DIR>          Downloads\n",
      "2021-04-09  오후 05:22    <DIR>          Favorites\n",
      "2021-07-13  오후 03:33    <DIR>          Jedi\n",
      "2021-01-04  오후 03:37    <DIR>          Links\n",
      "2021-01-04  오후 03:37    <DIR>          Music\n",
      "2021-07-14  오전 08:08    <DIR>          OneDrive\n",
      "2021-04-08  오전 03:26    <DIR>          Pictures\n",
      "2021-01-04  오후 03:37    <DIR>          Saved Games\n",
      "2021-01-04  오후 03:38    <DIR>          Searches\n",
      "2021-07-14  오후 03:36             2,216 test.ipynb\n",
      "2021-07-14  오후 01:45                67 test.py\n",
      "2021-07-14  오후 01:39                21 test.txt\n",
      "2021-07-13  오후 03:39               854 Untitled.ipynb\n",
      "2021-05-22  오후 01:35    <DIR>          Videos\n",
      "               6개 파일               3,228 바이트\n",
      "              23개 디렉터리  355,452,731,392 바이트 남음\n"
     ]
    }
   ],
   "source": [
    "%ls"
   ]
  },
  {
   "cell_type": "code",
   "execution_count": 42,
   "id": "1dc97f55",
   "metadata": {},
   "outputs": [
    {
     "data": {
      "text/plain": [
       "<function dir>"
      ]
     },
     "execution_count": 42,
     "metadata": {},
     "output_type": "execute_result"
    }
   ],
   "source": [
    "dir"
   ]
  },
  {
   "cell_type": "code",
   "execution_count": 43,
   "id": "c77c16ac",
   "metadata": {},
   "outputs": [
    {
     "name": "stdout",
     "output_type": "stream",
     "text": [
      " C 드라이브의 볼륨에는 이름이 없습니다.\n",
      " 볼륨 일련 번호: D492-755A\n",
      "\n",
      " C:\\Users\\USER 디렉터리\n",
      "\n",
      "2021-07-14  오후 03:38    <DIR>          .\n",
      "2021-07-14  오후 03:38    <DIR>          ..\n",
      "2021-07-14  오후 03:39    <DIR>          .conda\n",
      "2021-07-13  오후 02:16                25 .condarc\n",
      "2021-07-13  오후 02:16    <DIR>          .continuum\n",
      "2021-07-14  오후 03:17    <DIR>          .ipynb_checkpoints\n",
      "2021-07-13  오후 03:18    <DIR>          .ipython\n",
      "2021-07-13  오후 03:35    <DIR>          .jupyter\n",
      "2021-07-13  오후 03:18    <DIR>          .matplotlib\n",
      "2021-07-14  오후 01:35                45 .python_history\n",
      "2021-07-14  오후 02:29    <DIR>          .spyder-py3\n",
      "2021-01-04  오후 03:37    <DIR>          3D Objects\n",
      "2021-01-04  오후 03:37    <DIR>          Contacts\n",
      "2021-07-13  오후 05:13    <DIR>          Desktop\n",
      "2021-07-09  오후 02:53    <DIR>          Documents\n",
      "2021-07-14  오전 10:44    <DIR>          Downloads\n",
      "2021-04-09  오후 05:22    <DIR>          Favorites\n",
      "2021-07-13  오후 03:33    <DIR>          Jedi\n",
      "2021-01-04  오후 03:37    <DIR>          Links\n",
      "2021-01-04  오후 03:37    <DIR>          Music\n",
      "2021-07-14  오전 08:08    <DIR>          OneDrive\n",
      "2021-04-08  오전 03:26    <DIR>          Pictures\n",
      "2021-01-04  오후 03:37    <DIR>          Saved Games\n",
      "2021-01-04  오후 03:38    <DIR>          Searches\n",
      "2021-07-14  오후 03:38             4,837 test.ipynb\n",
      "2021-07-14  오후 01:45                67 test.py\n",
      "2021-07-14  오후 01:39                21 test.txt\n",
      "2021-07-13  오후 03:39               854 Untitled.ipynb\n",
      "2021-05-22  오후 01:35    <DIR>          Videos\n",
      "               6개 파일               5,849 바이트\n",
      "              23개 디렉터리  355,451,068,416 바이트 남음\n"
     ]
    }
   ],
   "source": [
    "!dir"
   ]
  },
  {
   "cell_type": "code",
   "execution_count": 44,
   "id": "2ba9bb18",
   "metadata": {},
   "outputs": [
    {
     "name": "stdout",
     "output_type": "stream",
     "text": [
      "\f",
      "\n"
     ]
    }
   ],
   "source": [
    "cls"
   ]
  },
  {
   "cell_type": "code",
   "execution_count": 45,
   "id": "653e178b",
   "metadata": {},
   "outputs": [
    {
     "name": "stdout",
     "output_type": "stream",
     "text": [
      "\f",
      "\n"
     ]
    }
   ],
   "source": [
    "!cls"
   ]
  },
  {
   "cell_type": "markdown",
   "id": "6f5c15b2",
   "metadata": {},
   "source": [
    "# "
   ]
  },
  {
   "cell_type": "code",
   "execution_count": 46,
   "id": "ce51d03f",
   "metadata": {},
   "outputs": [
    {
     "name": "stdout",
     "output_type": "stream",
     "text": [
      "^C\n"
     ]
    }
   ],
   "source": [
    "!time"
   ]
  },
  {
   "cell_type": "code",
   "execution_count": 47,
   "id": "8a0065d9",
   "metadata": {},
   "outputs": [
    {
     "name": "stdout",
     "output_type": "stream",
     "text": [
      "현재 시간: 15:40:39.32\n",
      "새로운 시간을 입력하십시오: \n",
      "^C\n"
     ]
    }
   ],
   "source": [
    "!date"
   ]
  },
  {
   "cell_type": "markdown",
   "id": "04008464",
   "metadata": {},
   "source": [
    "# 하이루"
   ]
  },
  {
   "cell_type": "code",
   "execution_count": 50,
   "id": "ccd90a54",
   "metadata": {
    "scrolled": true
   },
   "outputs": [
    {
     "name": "stdout",
     "output_type": "stream",
     "text": [
      "'hello world'\n"
     ]
    }
   ],
   "source": [
    "echo 'hello world'"
   ]
  },
  {
   "cell_type": "code",
   "execution_count": 51,
   "id": "9564f201",
   "metadata": {},
   "outputs": [
    {
     "data": {
      "text/plain": [
       "'C:\\\\Users\\\\USER'"
      ]
     },
     "execution_count": 51,
     "metadata": {},
     "output_type": "execute_result"
    }
   ],
   "source": [
    "pwd"
   ]
  },
  {
   "cell_type": "code",
   "execution_count": 52,
   "id": "0f9d6338",
   "metadata": {},
   "outputs": [
    {
     "name": "stdout",
     "output_type": "stream",
     "text": [
      " C 드라이브의 볼륨에는 이름이 없습니다.\n",
      " 볼륨 일련 번호: D492-755A\n",
      "\n",
      " C:\\Users\\USER 디렉터리\n",
      "\n",
      "2021-07-14  오후 03:44    <DIR>          .\n",
      "2021-07-14  오후 03:44    <DIR>          ..\n",
      "2021-07-14  오후 04:14    <DIR>          .conda\n",
      "2021-07-13  오후 02:16                25 .condarc\n",
      "2021-07-13  오후 02:16    <DIR>          .continuum\n",
      "2021-07-14  오후 03:17    <DIR>          .ipynb_checkpoints\n",
      "2021-07-13  오후 03:18    <DIR>          .ipython\n",
      "2021-07-13  오후 03:35    <DIR>          .jupyter\n",
      "2021-07-13  오후 03:18    <DIR>          .matplotlib\n",
      "2021-07-14  오후 01:35                45 .python_history\n",
      "2021-07-14  오후 02:29    <DIR>          .spyder-py3\n",
      "2021-01-04  오후 03:37    <DIR>          3D Objects\n",
      "2021-01-04  오후 03:37    <DIR>          Contacts\n",
      "2021-07-13  오후 05:13    <DIR>          Desktop\n",
      "2021-07-09  오후 02:53    <DIR>          Documents\n",
      "2021-07-14  오전 10:44    <DIR>          Downloads\n",
      "2021-04-09  오후 05:22    <DIR>          Favorites\n",
      "2021-07-13  오후 03:33    <DIR>          Jedi\n",
      "2021-01-04  오후 03:37    <DIR>          Links\n",
      "2021-01-04  오후 03:37    <DIR>          Music\n",
      "2021-07-14  오전 08:08    <DIR>          OneDrive\n",
      "2021-04-08  오전 03:26    <DIR>          Pictures\n",
      "2021-01-04  오후 03:37    <DIR>          Saved Games\n",
      "2021-01-04  오후 03:38    <DIR>          Searches\n",
      "2021-07-14  오후 03:44            12,128 test.ipynb\n",
      "2021-07-14  오후 01:45                67 test.py\n",
      "2021-07-14  오후 01:39                21 test.txt\n",
      "2021-07-13  오후 03:39               854 Untitled.ipynb\n",
      "2021-05-22  오후 01:35    <DIR>          Videos\n",
      "               6개 파일              13,140 바이트\n",
      "              23개 디렉터리  355,446,587,392 바이트 남음\n"
     ]
    }
   ],
   "source": [
    "%ls"
   ]
  },
  {
   "cell_type": "code",
   "execution_count": null,
   "id": "289f8483",
   "metadata": {},
   "outputs": [],
   "source": []
  },
  {
   "cell_type": "code",
   "execution_count": null,
   "id": "ab45cd80",
   "metadata": {},
   "outputs": [],
   "source": []
  }
 ],
 "metadata": {
  "kernelspec": {
   "display_name": "Python 3",
   "language": "python",
   "name": "python3"
  },
  "language_info": {
   "codemirror_mode": {
    "name": "ipython",
    "version": 3
   },
   "file_extension": ".py",
   "mimetype": "text/x-python",
   "name": "python",
   "nbconvert_exporter": "python",
   "pygments_lexer": "ipython3",
   "version": "3.8.8"
  }
 },
 "nbformat": 4,
 "nbformat_minor": 5
}
